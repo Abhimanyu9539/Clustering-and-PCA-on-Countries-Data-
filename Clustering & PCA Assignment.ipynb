{
 "cells": [
  {
   "cell_type": "markdown",
   "metadata": {},
   "source": [
    "### Clustering & PCA Analysis HELP International NGO\n",
    "\n",
    "#### Goal :\n",
    "\n",
    "Provide insights on which countries are in dire need of the help from NGO\n",
    "- Perform PCA on the dataset and obtain the new dataset with the Principal Components\n",
    "- Perform Outlier Analysis\n",
    "- Analyze the clusters and identify the ones which are in dire need of aid.\n",
    "\n",
    "\n",
    "### Setp 1: Loading data into DataFrame"
   ]
  },
  {
   "cell_type": "code",
   "execution_count": 10,
   "metadata": {},
   "outputs": [],
   "source": [
    "# Importing required libraries\n",
    "\n",
    "import numpy as np\n",
    "import pandas as pd\n",
    "import matplotlib.pyplot as plt\n",
    "import seaborn as sns\n",
    "%matplotlib inline\n",
    "\n",
    "#import PCA\n",
    "from sklearn.decomposition import PCA\n",
    "from sklearn.preprocessing import StandardScaler\n",
    "\n",
    "# To perform KMeans clustering \n",
    "from sklearn.cluster import KMeans\n",
    "from sklearn.metrics import silhouette_score\n",
    "from scipy.cluster.hierarchy import dendrogram, linkage, cut_tree\n",
    "\n",
    "# Supress Warnings\n",
    "import warnings\n",
    "warnings.filterwarnings('ignore')\n",
    "pd.set_option('display.max_columns', 500)"
   ]
  },
  {
   "cell_type": "code",
   "execution_count": 11,
   "metadata": {
    "scrolled": true
   },
   "outputs": [
    {
     "data": {
      "text/html": [
       "<div>\n",
       "<style scoped>\n",
       "    .dataframe tbody tr th:only-of-type {\n",
       "        vertical-align: middle;\n",
       "    }\n",
       "\n",
       "    .dataframe tbody tr th {\n",
       "        vertical-align: top;\n",
       "    }\n",
       "\n",
       "    .dataframe thead th {\n",
       "        text-align: right;\n",
       "    }\n",
       "</style>\n",
       "<table border=\"1\" class=\"dataframe\">\n",
       "  <thead>\n",
       "    <tr style=\"text-align: right;\">\n",
       "      <th></th>\n",
       "      <th>country</th>\n",
       "      <th>child_mort</th>\n",
       "      <th>exports</th>\n",
       "      <th>health</th>\n",
       "      <th>imports</th>\n",
       "      <th>income</th>\n",
       "      <th>inflation</th>\n",
       "      <th>life_expec</th>\n",
       "      <th>total_fer</th>\n",
       "      <th>gdpp</th>\n",
       "    </tr>\n",
       "  </thead>\n",
       "  <tbody>\n",
       "    <tr>\n",
       "      <th>0</th>\n",
       "      <td>Afghanistan</td>\n",
       "      <td>90.2</td>\n",
       "      <td>10.0</td>\n",
       "      <td>7.58</td>\n",
       "      <td>44.9</td>\n",
       "      <td>1610</td>\n",
       "      <td>9.44</td>\n",
       "      <td>56.2</td>\n",
       "      <td>5.82</td>\n",
       "      <td>553</td>\n",
       "    </tr>\n",
       "    <tr>\n",
       "      <th>1</th>\n",
       "      <td>Albania</td>\n",
       "      <td>16.6</td>\n",
       "      <td>28.0</td>\n",
       "      <td>6.55</td>\n",
       "      <td>48.6</td>\n",
       "      <td>9930</td>\n",
       "      <td>4.49</td>\n",
       "      <td>76.3</td>\n",
       "      <td>1.65</td>\n",
       "      <td>4090</td>\n",
       "    </tr>\n",
       "    <tr>\n",
       "      <th>2</th>\n",
       "      <td>Algeria</td>\n",
       "      <td>27.3</td>\n",
       "      <td>38.4</td>\n",
       "      <td>4.17</td>\n",
       "      <td>31.4</td>\n",
       "      <td>12900</td>\n",
       "      <td>16.10</td>\n",
       "      <td>76.5</td>\n",
       "      <td>2.89</td>\n",
       "      <td>4460</td>\n",
       "    </tr>\n",
       "    <tr>\n",
       "      <th>3</th>\n",
       "      <td>Angola</td>\n",
       "      <td>119.0</td>\n",
       "      <td>62.3</td>\n",
       "      <td>2.85</td>\n",
       "      <td>42.9</td>\n",
       "      <td>5900</td>\n",
       "      <td>22.40</td>\n",
       "      <td>60.1</td>\n",
       "      <td>6.16</td>\n",
       "      <td>3530</td>\n",
       "    </tr>\n",
       "    <tr>\n",
       "      <th>4</th>\n",
       "      <td>Antigua and Barbuda</td>\n",
       "      <td>10.3</td>\n",
       "      <td>45.5</td>\n",
       "      <td>6.03</td>\n",
       "      <td>58.9</td>\n",
       "      <td>19100</td>\n",
       "      <td>1.44</td>\n",
       "      <td>76.8</td>\n",
       "      <td>2.13</td>\n",
       "      <td>12200</td>\n",
       "    </tr>\n",
       "  </tbody>\n",
       "</table>\n",
       "</div>"
      ],
      "text/plain": [
       "               country  child_mort  exports  health  imports  income  \\\n",
       "0          Afghanistan        90.2     10.0    7.58     44.9    1610   \n",
       "1              Albania        16.6     28.0    6.55     48.6    9930   \n",
       "2              Algeria        27.3     38.4    4.17     31.4   12900   \n",
       "3               Angola       119.0     62.3    2.85     42.9    5900   \n",
       "4  Antigua and Barbuda        10.3     45.5    6.03     58.9   19100   \n",
       "\n",
       "   inflation  life_expec  total_fer   gdpp  \n",
       "0       9.44        56.2       5.82    553  \n",
       "1       4.49        76.3       1.65   4090  \n",
       "2      16.10        76.5       2.89   4460  \n",
       "3      22.40        60.1       6.16   3530  \n",
       "4       1.44        76.8       2.13  12200  "
      ]
     },
     "execution_count": 11,
     "metadata": {},
     "output_type": "execute_result"
    }
   ],
   "source": [
    "# Creating dataframe from the provided dataset\n",
    "\n",
    "country_df = pd.read_csv('Country-data.csv')\n",
    "\n",
    "# Creating copy of the dataframe\n",
    "country_df_values = country_df\n",
    "country_df.head()"
   ]
  },
  {
   "cell_type": "code",
   "execution_count": 12,
   "metadata": {},
   "outputs": [
    {
     "name": "stdout",
     "output_type": "stream",
     "text": [
      "<class 'pandas.core.frame.DataFrame'>\n",
      "RangeIndex: 167 entries, 0 to 166\n",
      "Data columns (total 10 columns):\n",
      "country       167 non-null object\n",
      "child_mort    167 non-null float64\n",
      "exports       167 non-null float64\n",
      "health        167 non-null float64\n",
      "imports       167 non-null float64\n",
      "income        167 non-null int64\n",
      "inflation     167 non-null float64\n",
      "life_expec    167 non-null float64\n",
      "total_fer     167 non-null float64\n",
      "gdpp          167 non-null int64\n",
      "dtypes: float64(7), int64(2), object(1)\n",
      "memory usage: 13.1+ KB\n"
     ]
    }
   ],
   "source": [
    "# Inspecting various aspects of the dataset\n",
    "country_df.info()"
   ]
  },
  {
   "cell_type": "code",
   "execution_count": 13,
   "metadata": {},
   "outputs": [
    {
     "data": {
      "text/plain": [
       "(167, 10)"
      ]
     },
     "execution_count": 13,
     "metadata": {},
     "output_type": "execute_result"
    }
   ],
   "source": [
    "country_df.shape"
   ]
  },
  {
   "cell_type": "code",
   "execution_count": 14,
   "metadata": {},
   "outputs": [
    {
     "data": {
      "text/html": [
       "<div>\n",
       "<style scoped>\n",
       "    .dataframe tbody tr th:only-of-type {\n",
       "        vertical-align: middle;\n",
       "    }\n",
       "\n",
       "    .dataframe tbody tr th {\n",
       "        vertical-align: top;\n",
       "    }\n",
       "\n",
       "    .dataframe thead th {\n",
       "        text-align: right;\n",
       "    }\n",
       "</style>\n",
       "<table border=\"1\" class=\"dataframe\">\n",
       "  <thead>\n",
       "    <tr style=\"text-align: right;\">\n",
       "      <th></th>\n",
       "      <th>child_mort</th>\n",
       "      <th>exports</th>\n",
       "      <th>health</th>\n",
       "      <th>imports</th>\n",
       "      <th>income</th>\n",
       "      <th>inflation</th>\n",
       "      <th>life_expec</th>\n",
       "      <th>total_fer</th>\n",
       "      <th>gdpp</th>\n",
       "    </tr>\n",
       "  </thead>\n",
       "  <tbody>\n",
       "    <tr>\n",
       "      <th>count</th>\n",
       "      <td>167.000000</td>\n",
       "      <td>167.000000</td>\n",
       "      <td>167.000000</td>\n",
       "      <td>167.000000</td>\n",
       "      <td>167.000000</td>\n",
       "      <td>167.000000</td>\n",
       "      <td>167.000000</td>\n",
       "      <td>167.000000</td>\n",
       "      <td>167.000000</td>\n",
       "    </tr>\n",
       "    <tr>\n",
       "      <th>mean</th>\n",
       "      <td>38.270060</td>\n",
       "      <td>41.108976</td>\n",
       "      <td>6.815689</td>\n",
       "      <td>46.890215</td>\n",
       "      <td>17144.688623</td>\n",
       "      <td>7.781832</td>\n",
       "      <td>70.555689</td>\n",
       "      <td>2.947964</td>\n",
       "      <td>12964.155689</td>\n",
       "    </tr>\n",
       "    <tr>\n",
       "      <th>std</th>\n",
       "      <td>40.328931</td>\n",
       "      <td>27.412010</td>\n",
       "      <td>2.746837</td>\n",
       "      <td>24.209589</td>\n",
       "      <td>19278.067698</td>\n",
       "      <td>10.570704</td>\n",
       "      <td>8.893172</td>\n",
       "      <td>1.513848</td>\n",
       "      <td>18328.704809</td>\n",
       "    </tr>\n",
       "    <tr>\n",
       "      <th>min</th>\n",
       "      <td>2.600000</td>\n",
       "      <td>0.109000</td>\n",
       "      <td>1.810000</td>\n",
       "      <td>0.065900</td>\n",
       "      <td>609.000000</td>\n",
       "      <td>-4.210000</td>\n",
       "      <td>32.100000</td>\n",
       "      <td>1.150000</td>\n",
       "      <td>231.000000</td>\n",
       "    </tr>\n",
       "    <tr>\n",
       "      <th>25%</th>\n",
       "      <td>8.250000</td>\n",
       "      <td>23.800000</td>\n",
       "      <td>4.920000</td>\n",
       "      <td>30.200000</td>\n",
       "      <td>3355.000000</td>\n",
       "      <td>1.810000</td>\n",
       "      <td>65.300000</td>\n",
       "      <td>1.795000</td>\n",
       "      <td>1330.000000</td>\n",
       "    </tr>\n",
       "    <tr>\n",
       "      <th>50%</th>\n",
       "      <td>19.300000</td>\n",
       "      <td>35.000000</td>\n",
       "      <td>6.320000</td>\n",
       "      <td>43.300000</td>\n",
       "      <td>9960.000000</td>\n",
       "      <td>5.390000</td>\n",
       "      <td>73.100000</td>\n",
       "      <td>2.410000</td>\n",
       "      <td>4660.000000</td>\n",
       "    </tr>\n",
       "    <tr>\n",
       "      <th>75%</th>\n",
       "      <td>62.100000</td>\n",
       "      <td>51.350000</td>\n",
       "      <td>8.600000</td>\n",
       "      <td>58.750000</td>\n",
       "      <td>22800.000000</td>\n",
       "      <td>10.750000</td>\n",
       "      <td>76.800000</td>\n",
       "      <td>3.880000</td>\n",
       "      <td>14050.000000</td>\n",
       "    </tr>\n",
       "    <tr>\n",
       "      <th>max</th>\n",
       "      <td>208.000000</td>\n",
       "      <td>200.000000</td>\n",
       "      <td>17.900000</td>\n",
       "      <td>174.000000</td>\n",
       "      <td>125000.000000</td>\n",
       "      <td>104.000000</td>\n",
       "      <td>82.800000</td>\n",
       "      <td>7.490000</td>\n",
       "      <td>105000.000000</td>\n",
       "    </tr>\n",
       "  </tbody>\n",
       "</table>\n",
       "</div>"
      ],
      "text/plain": [
       "       child_mort     exports      health     imports         income  \\\n",
       "count  167.000000  167.000000  167.000000  167.000000     167.000000   \n",
       "mean    38.270060   41.108976    6.815689   46.890215   17144.688623   \n",
       "std     40.328931   27.412010    2.746837   24.209589   19278.067698   \n",
       "min      2.600000    0.109000    1.810000    0.065900     609.000000   \n",
       "25%      8.250000   23.800000    4.920000   30.200000    3355.000000   \n",
       "50%     19.300000   35.000000    6.320000   43.300000    9960.000000   \n",
       "75%     62.100000   51.350000    8.600000   58.750000   22800.000000   \n",
       "max    208.000000  200.000000   17.900000  174.000000  125000.000000   \n",
       "\n",
       "        inflation  life_expec   total_fer           gdpp  \n",
       "count  167.000000  167.000000  167.000000     167.000000  \n",
       "mean     7.781832   70.555689    2.947964   12964.155689  \n",
       "std     10.570704    8.893172    1.513848   18328.704809  \n",
       "min     -4.210000   32.100000    1.150000     231.000000  \n",
       "25%      1.810000   65.300000    1.795000    1330.000000  \n",
       "50%      5.390000   73.100000    2.410000    4660.000000  \n",
       "75%     10.750000   76.800000    3.880000   14050.000000  \n",
       "max    104.000000   82.800000    7.490000  105000.000000  "
      ]
     },
     "execution_count": 14,
     "metadata": {},
     "output_type": "execute_result"
    }
   ],
   "source": [
    "country_df.describe()"
   ]
  },
  {
   "cell_type": "code",
   "execution_count": 15,
   "metadata": {},
   "outputs": [
    {
     "data": {
      "text/plain": [
       "country       0\n",
       "child_mort    0\n",
       "exports       0\n",
       "health        0\n",
       "imports       0\n",
       "income        0\n",
       "inflation     0\n",
       "life_expec    0\n",
       "total_fer     0\n",
       "gdpp          0\n",
       "dtype: int64"
      ]
     },
     "execution_count": 15,
     "metadata": {},
     "output_type": "execute_result"
    }
   ],
   "source": [
    "# Check for missing values. we find there are no missing values in the dataset\n",
    "country_df.isnull().sum()"
   ]
  },
  {
   "cell_type": "code",
   "execution_count": 16,
   "metadata": {
    "scrolled": true
   },
   "outputs": [
    {
     "data": {
      "text/html": [
       "<div>\n",
       "<style scoped>\n",
       "    .dataframe tbody tr th:only-of-type {\n",
       "        vertical-align: middle;\n",
       "    }\n",
       "\n",
       "    .dataframe tbody tr th {\n",
       "        vertical-align: top;\n",
       "    }\n",
       "\n",
       "    .dataframe thead th {\n",
       "        text-align: right;\n",
       "    }\n",
       "</style>\n",
       "<table border=\"1\" class=\"dataframe\">\n",
       "  <thead>\n",
       "    <tr style=\"text-align: right;\">\n",
       "      <th></th>\n",
       "      <th>child_mort</th>\n",
       "      <th>exports</th>\n",
       "      <th>health</th>\n",
       "      <th>imports</th>\n",
       "      <th>income</th>\n",
       "      <th>inflation</th>\n",
       "      <th>life_expec</th>\n",
       "      <th>total_fer</th>\n",
       "      <th>gdpp</th>\n",
       "    </tr>\n",
       "  </thead>\n",
       "  <tbody>\n",
       "    <tr>\n",
       "      <th>count</th>\n",
       "      <td>167.000000</td>\n",
       "      <td>167.000000</td>\n",
       "      <td>167.000000</td>\n",
       "      <td>167.000000</td>\n",
       "      <td>167.000000</td>\n",
       "      <td>167.000000</td>\n",
       "      <td>167.000000</td>\n",
       "      <td>167.000000</td>\n",
       "      <td>167.000000</td>\n",
       "    </tr>\n",
       "    <tr>\n",
       "      <th>mean</th>\n",
       "      <td>38.270060</td>\n",
       "      <td>41.108976</td>\n",
       "      <td>6.815689</td>\n",
       "      <td>46.890215</td>\n",
       "      <td>17144.688623</td>\n",
       "      <td>7.781832</td>\n",
       "      <td>70.555689</td>\n",
       "      <td>2.947964</td>\n",
       "      <td>12964.155689</td>\n",
       "    </tr>\n",
       "    <tr>\n",
       "      <th>std</th>\n",
       "      <td>40.328931</td>\n",
       "      <td>27.412010</td>\n",
       "      <td>2.746837</td>\n",
       "      <td>24.209589</td>\n",
       "      <td>19278.067698</td>\n",
       "      <td>10.570704</td>\n",
       "      <td>8.893172</td>\n",
       "      <td>1.513848</td>\n",
       "      <td>18328.704809</td>\n",
       "    </tr>\n",
       "    <tr>\n",
       "      <th>min</th>\n",
       "      <td>2.600000</td>\n",
       "      <td>0.109000</td>\n",
       "      <td>1.810000</td>\n",
       "      <td>0.065900</td>\n",
       "      <td>609.000000</td>\n",
       "      <td>-4.210000</td>\n",
       "      <td>32.100000</td>\n",
       "      <td>1.150000</td>\n",
       "      <td>231.000000</td>\n",
       "    </tr>\n",
       "    <tr>\n",
       "      <th>25%</th>\n",
       "      <td>8.250000</td>\n",
       "      <td>23.800000</td>\n",
       "      <td>4.920000</td>\n",
       "      <td>30.200000</td>\n",
       "      <td>3355.000000</td>\n",
       "      <td>1.810000</td>\n",
       "      <td>65.300000</td>\n",
       "      <td>1.795000</td>\n",
       "      <td>1330.000000</td>\n",
       "    </tr>\n",
       "    <tr>\n",
       "      <th>50%</th>\n",
       "      <td>19.300000</td>\n",
       "      <td>35.000000</td>\n",
       "      <td>6.320000</td>\n",
       "      <td>43.300000</td>\n",
       "      <td>9960.000000</td>\n",
       "      <td>5.390000</td>\n",
       "      <td>73.100000</td>\n",
       "      <td>2.410000</td>\n",
       "      <td>4660.000000</td>\n",
       "    </tr>\n",
       "    <tr>\n",
       "      <th>75%</th>\n",
       "      <td>62.100000</td>\n",
       "      <td>51.350000</td>\n",
       "      <td>8.600000</td>\n",
       "      <td>58.750000</td>\n",
       "      <td>22800.000000</td>\n",
       "      <td>10.750000</td>\n",
       "      <td>76.800000</td>\n",
       "      <td>3.880000</td>\n",
       "      <td>14050.000000</td>\n",
       "    </tr>\n",
       "    <tr>\n",
       "      <th>90%</th>\n",
       "      <td>100.220000</td>\n",
       "      <td>70.800000</td>\n",
       "      <td>10.940000</td>\n",
       "      <td>75.420000</td>\n",
       "      <td>41220.000000</td>\n",
       "      <td>16.640000</td>\n",
       "      <td>80.400000</td>\n",
       "      <td>5.322000</td>\n",
       "      <td>41840.000000</td>\n",
       "    </tr>\n",
       "    <tr>\n",
       "      <th>95%</th>\n",
       "      <td>116.000000</td>\n",
       "      <td>80.570000</td>\n",
       "      <td>11.570000</td>\n",
       "      <td>81.140000</td>\n",
       "      <td>48290.000000</td>\n",
       "      <td>20.870000</td>\n",
       "      <td>81.400000</td>\n",
       "      <td>5.861000</td>\n",
       "      <td>48610.000000</td>\n",
       "    </tr>\n",
       "    <tr>\n",
       "      <th>99%</th>\n",
       "      <td>153.400000</td>\n",
       "      <td>160.480000</td>\n",
       "      <td>13.474000</td>\n",
       "      <td>146.080000</td>\n",
       "      <td>84374.000000</td>\n",
       "      <td>41.478000</td>\n",
       "      <td>82.370000</td>\n",
       "      <td>6.563600</td>\n",
       "      <td>79088.000000</td>\n",
       "    </tr>\n",
       "    <tr>\n",
       "      <th>max</th>\n",
       "      <td>208.000000</td>\n",
       "      <td>200.000000</td>\n",
       "      <td>17.900000</td>\n",
       "      <td>174.000000</td>\n",
       "      <td>125000.000000</td>\n",
       "      <td>104.000000</td>\n",
       "      <td>82.800000</td>\n",
       "      <td>7.490000</td>\n",
       "      <td>105000.000000</td>\n",
       "    </tr>\n",
       "  </tbody>\n",
       "</table>\n",
       "</div>"
      ],
      "text/plain": [
       "       child_mort     exports      health     imports         income  \\\n",
       "count  167.000000  167.000000  167.000000  167.000000     167.000000   \n",
       "mean    38.270060   41.108976    6.815689   46.890215   17144.688623   \n",
       "std     40.328931   27.412010    2.746837   24.209589   19278.067698   \n",
       "min      2.600000    0.109000    1.810000    0.065900     609.000000   \n",
       "25%      8.250000   23.800000    4.920000   30.200000    3355.000000   \n",
       "50%     19.300000   35.000000    6.320000   43.300000    9960.000000   \n",
       "75%     62.100000   51.350000    8.600000   58.750000   22800.000000   \n",
       "90%    100.220000   70.800000   10.940000   75.420000   41220.000000   \n",
       "95%    116.000000   80.570000   11.570000   81.140000   48290.000000   \n",
       "99%    153.400000  160.480000   13.474000  146.080000   84374.000000   \n",
       "max    208.000000  200.000000   17.900000  174.000000  125000.000000   \n",
       "\n",
       "        inflation  life_expec   total_fer           gdpp  \n",
       "count  167.000000  167.000000  167.000000     167.000000  \n",
       "mean     7.781832   70.555689    2.947964   12964.155689  \n",
       "std     10.570704    8.893172    1.513848   18328.704809  \n",
       "min     -4.210000   32.100000    1.150000     231.000000  \n",
       "25%      1.810000   65.300000    1.795000    1330.000000  \n",
       "50%      5.390000   73.100000    2.410000    4660.000000  \n",
       "75%     10.750000   76.800000    3.880000   14050.000000  \n",
       "90%     16.640000   80.400000    5.322000   41840.000000  \n",
       "95%     20.870000   81.400000    5.861000   48610.000000  \n",
       "99%     41.478000   82.370000    6.563600   79088.000000  \n",
       "max    104.000000   82.800000    7.490000  105000.000000  "
      ]
     },
     "execution_count": 16,
     "metadata": {},
     "output_type": "execute_result"
    }
   ],
   "source": [
    "country_df.describe(percentiles=[.25,.5,.75,.90,.95,.99])"
   ]
  },
  {
   "cell_type": "code",
   "execution_count": 17,
   "metadata": {},
   "outputs": [
    {
     "data": {
      "text/html": [
       "<div>\n",
       "<style scoped>\n",
       "    .dataframe tbody tr th:only-of-type {\n",
       "        vertical-align: middle;\n",
       "    }\n",
       "\n",
       "    .dataframe tbody tr th {\n",
       "        vertical-align: top;\n",
       "    }\n",
       "\n",
       "    .dataframe thead th {\n",
       "        text-align: right;\n",
       "    }\n",
       "</style>\n",
       "<table border=\"1\" class=\"dataframe\">\n",
       "  <thead>\n",
       "    <tr style=\"text-align: right;\">\n",
       "      <th></th>\n",
       "      <th>country</th>\n",
       "      <th>child_mort</th>\n",
       "      <th>exports</th>\n",
       "      <th>health</th>\n",
       "      <th>imports</th>\n",
       "      <th>income</th>\n",
       "      <th>inflation</th>\n",
       "      <th>life_expec</th>\n",
       "      <th>total_fer</th>\n",
       "      <th>gdpp</th>\n",
       "    </tr>\n",
       "  </thead>\n",
       "  <tbody>\n",
       "    <tr>\n",
       "      <th>0</th>\n",
       "      <td>Afghanistan</td>\n",
       "      <td>90.2</td>\n",
       "      <td>10.0</td>\n",
       "      <td>7.58</td>\n",
       "      <td>44.9</td>\n",
       "      <td>1610</td>\n",
       "      <td>9.44</td>\n",
       "      <td>56.2</td>\n",
       "      <td>5.82</td>\n",
       "      <td>553</td>\n",
       "    </tr>\n",
       "    <tr>\n",
       "      <th>1</th>\n",
       "      <td>Albania</td>\n",
       "      <td>16.6</td>\n",
       "      <td>28.0</td>\n",
       "      <td>6.55</td>\n",
       "      <td>48.6</td>\n",
       "      <td>9930</td>\n",
       "      <td>4.49</td>\n",
       "      <td>76.3</td>\n",
       "      <td>1.65</td>\n",
       "      <td>4090</td>\n",
       "    </tr>\n",
       "    <tr>\n",
       "      <th>2</th>\n",
       "      <td>Algeria</td>\n",
       "      <td>27.3</td>\n",
       "      <td>38.4</td>\n",
       "      <td>4.17</td>\n",
       "      <td>31.4</td>\n",
       "      <td>12900</td>\n",
       "      <td>16.10</td>\n",
       "      <td>76.5</td>\n",
       "      <td>2.89</td>\n",
       "      <td>4460</td>\n",
       "    </tr>\n",
       "    <tr>\n",
       "      <th>3</th>\n",
       "      <td>Angola</td>\n",
       "      <td>119.0</td>\n",
       "      <td>62.3</td>\n",
       "      <td>2.85</td>\n",
       "      <td>42.9</td>\n",
       "      <td>5900</td>\n",
       "      <td>22.40</td>\n",
       "      <td>60.1</td>\n",
       "      <td>6.16</td>\n",
       "      <td>3530</td>\n",
       "    </tr>\n",
       "    <tr>\n",
       "      <th>4</th>\n",
       "      <td>Antigua and Barbuda</td>\n",
       "      <td>10.3</td>\n",
       "      <td>45.5</td>\n",
       "      <td>6.03</td>\n",
       "      <td>58.9</td>\n",
       "      <td>19100</td>\n",
       "      <td>1.44</td>\n",
       "      <td>76.8</td>\n",
       "      <td>2.13</td>\n",
       "      <td>12200</td>\n",
       "    </tr>\n",
       "  </tbody>\n",
       "</table>\n",
       "</div>"
      ],
      "text/plain": [
       "               country  child_mort  exports  health  imports  income  \\\n",
       "0          Afghanistan        90.2     10.0    7.58     44.9    1610   \n",
       "1              Albania        16.6     28.0    6.55     48.6    9930   \n",
       "2              Algeria        27.3     38.4    4.17     31.4   12900   \n",
       "3               Angola       119.0     62.3    2.85     42.9    5900   \n",
       "4  Antigua and Barbuda        10.3     45.5    6.03     58.9   19100   \n",
       "\n",
       "   inflation  life_expec  total_fer   gdpp  \n",
       "0       9.44        56.2       5.82    553  \n",
       "1       4.49        76.3       1.65   4090  \n",
       "2      16.10        76.5       2.89   4460  \n",
       "3      22.40        60.1       6.16   3530  \n",
       "4       1.44        76.8       2.13  12200  "
      ]
     },
     "execution_count": 17,
     "metadata": {},
     "output_type": "execute_result"
    }
   ],
   "source": [
    "country_df.head()"
   ]
  },
  {
   "cell_type": "markdown",
   "metadata": {},
   "source": [
    "### Step 2 : Outliers Treatment"
   ]
  },
  {
   "cell_type": "code",
   "execution_count": 18,
   "metadata": {},
   "outputs": [
    {
     "data": {
      "text/plain": [
       "Index(['country', 'child_mort', 'exports', 'health', 'imports', 'income',\n",
       "       'inflation', 'life_expec', 'total_fer', 'gdpp'],\n",
       "      dtype='object')"
      ]
     },
     "execution_count": 18,
     "metadata": {},
     "output_type": "execute_result"
    }
   ],
   "source": [
    "country_df.columns"
   ]
  },
  {
   "cell_type": "code",
   "execution_count": 19,
   "metadata": {},
   "outputs": [
    {
     "data": {
      "image/png": "[encoded data removed]",
      "text/plain": [
       "<Figure size 1296x1080 with 9 Axes>"
      ]
     },
     "metadata": {
      "needs_background": "light"
     },
     "output_type": "display_data"
    }
   ],
   "source": [
    "# Checking for outliers present in the dataset\n",
    "\n",
    "plt.figure(figsize=(18,15))\n",
    "vars= ['child_mort', 'exports', 'health', 'imports', 'income', 'inflation',\n",
    "       'life_expec', 'total_fer', 'gdpp']\n",
    "for i in enumerate(vars):\n",
    "       plt.subplot(3,3,i[0]+1)\n",
    "       sns.boxplot(x=i[1], data=country_df)\n",
    "       "
   ]
  },
  {
   "cell_type": "markdown",
   "metadata": {},
   "source": [
    "From the above plot, it is observed that there significant number of outliers present in `\"GDPP\"` and `\"Income\"` columns.These will manipulate the clustering process.\n",
    "Hence opting to remove the outliers from both columns."
   ]
  },
  {
   "cell_type": "code",
   "execution_count": 20,
   "metadata": {},
   "outputs": [
    {
     "data": {
      "text/plain": [
       "(131, 10)"
      ]
     },
     "execution_count": 20,
     "metadata": {},
     "output_type": "execute_result"
    }
   ],
   "source": [
    "# Outlier treatment for GDPP column\n",
    "## Taking the quatile values between 1% and 80% \n",
    "\n",
    "Q1= country_df['gdpp'].quantile(0.01)\n",
    "Q4=country_df['gdpp'].quantile(0.80)\n",
    "country_df_1= country_df[(country_df['gdpp']>=Q1) & (country_df['gdpp']<=Q4)]\n",
    "country_df_1.shape"
   ]
  },
  {
   "cell_type": "markdown",
   "metadata": {},
   "source": [
    "After removing data above 80% quantile, the number of rows are reduced to `131` i.e. `36 rows` contatining outlier values are dropped.\n",
    "\n",
    "Once again plotting boxplot to check the outlier status."
   ]
  },
  {
   "cell_type": "code",
   "execution_count": 21,
   "metadata": {
    "scrolled": false
   },
   "outputs": [
    {
     "data": {
      "image/png": "[encoded data removed]",
      "text/plain": [
       "<Figure size 1296x1080 with 9 Axes>"
      ]
     },
     "metadata": {
      "needs_background": "light"
     },
     "output_type": "display_data"
    }
   ],
   "source": [
    "# Checking for outliers present in the dataset\n",
    "\n",
    "plt.figure(figsize=(18,15))\n",
    "vars= ['child_mort', 'exports', 'health', 'imports', 'income', 'inflation',\n",
    "       'life_expec', 'total_fer', 'gdpp']\n",
    "for i in enumerate(vars):\n",
    "       plt.subplot(3,3,i[0]+1)\n",
    "       sns.boxplot(x=i[1], data=country_df_1)\n",
    "       "
   ]
  },
  {
   "cell_type": "markdown",
   "metadata": {},
   "source": [
    "From the boxplot, it is clear that we have removed significant number of outliers from the `\"GDPP\"` column."
   ]
  },
  {
   "cell_type": "code",
   "execution_count": 22,
   "metadata": {},
   "outputs": [
    {
     "data": {
      "text/plain": [
       "(128, 10)"
      ]
     },
     "execution_count": 22,
     "metadata": {},
     "output_type": "execute_result"
    }
   ],
   "source": [
    "# Outlier treatment for Income column\n",
    "## Taking the quatile values between 1% and 90% \n",
    "\n",
    "Q1= country_df['income'].quantile(0.01)\n",
    "Q4=country_df['income'].quantile(0.90)\n",
    "country_df_2= country_df_1[(country_df_1['income']>=Q1) & (country_df_1['income']<=Q4)]\n",
    "country_df_2.shape"
   ]
  },
  {
   "cell_type": "markdown",
   "metadata": {},
   "source": [
    "The number of rows are reduced to \"128\" after outlier treatment on \"Income\""
   ]
  },
  {
   "cell_type": "code",
   "execution_count": 23,
   "metadata": {},
   "outputs": [
    {
     "data": {
      "image/png": "[encoded data removed]",
      "text/plain": [
       "<Figure size 1296x1080 with 9 Axes>"
      ]
     },
     "metadata": {
      "needs_background": "light"
     },
     "output_type": "display_data"
    }
   ],
   "source": [
    "# Checking for outliers present in the dataset\n",
    "\n",
    "plt.figure(figsize=(18,15))\n",
    "vars= ['child_mort', 'exports', 'health', 'imports', 'income', 'inflation',\n",
    "       'life_expec', 'total_fer', 'gdpp']\n",
    "for i in enumerate(vars):\n",
    "       plt.subplot(3,3,i[0]+1)\n",
    "       sns.boxplot(x=i[1], data=country_df_2)\n",
    "       "
   ]
  },
  {
   "cell_type": "markdown",
   "metadata": {},
   "source": [
    "The data still has some \"Outliers\" present in the dataset. But they are withing range which will not impact the clusterisation.This is good data to apply PCA on."
   ]
  },
  {
   "cell_type": "markdown",
   "metadata": {},
   "source": [
    "### Step 3 : Applying PCA\n",
    "\n",
    "#### Scaling the data before applying PCA"
   ]
  },
  {
   "cell_type": "code",
   "execution_count": 24,
   "metadata": {},
   "outputs": [],
   "source": [
    "country_df_forHierarchical = country_df_2.copy()\n",
    "country_df_2 = country_df_2.reset_index(drop=True)"
   ]
  },
  {
   "cell_type": "code",
   "execution_count": 25,
   "metadata": {},
   "outputs": [
    {
     "data": {
      "text/plain": [
       "0            Afghanistan\n",
       "1                Albania\n",
       "2                Algeria\n",
       "3                 Angola\n",
       "4    Antigua and Barbuda\n",
       "Name: country, dtype: object"
      ]
     },
     "execution_count": 25,
     "metadata": {},
     "output_type": "execute_result"
    }
   ],
   "source": [
    "### Removing \"Country\" column from the dataframe\n",
    "country_df_2.reset_index()\n",
    "countries_list_df= country_df_2.pop('country')\n",
    "countries_list_df.reset_index(drop=True)\n",
    "countries_list_df.head()"
   ]
  },
  {
   "cell_type": "code",
   "execution_count": 26,
   "metadata": {},
   "outputs": [
    {
     "data": {
      "text/plain": [
       "array([[ 1.08609087, -1.36430399,  0.6037782 , -0.04939097, -0.99618769],\n",
       "       [-0.72306198, -0.456601  ,  0.1455574 ,  0.14223964,  0.07347287],\n",
       "       [-0.46004655,  0.06784962, -0.91324407, -0.74858371,  0.45531084],\n",
       "       [ 1.79402024,  1.27307747, -1.50047849, -0.15297508, -0.44464396],\n",
       "       [-0.87792153,  0.42588802, -0.08577738,  0.6756978 ,  1.25241366]])"
      ]
     },
     "execution_count": 26,
     "metadata": {},
     "output_type": "execute_result"
    }
   ],
   "source": [
    "## Scaling the data before applying PCA\n",
    "\n",
    "scaler = StandardScaler()\n",
    "country_df_scaled = country_df_2.copy()\n",
    "country_df_scaled = scaler.fit_transform(country_df_scaled)\n",
    "country_df_scaled[:5,:5]"
   ]
  },
  {
   "cell_type": "markdown",
   "metadata": {},
   "source": [
    "#### Applying PCA"
   ]
  },
  {
   "cell_type": "code",
   "execution_count": 27,
   "metadata": {},
   "outputs": [
    {
     "data": {
      "text/plain": [
       "child_mort     0.0020\n",
       "exports        0.0005\n",
       "health         0.0000\n",
       "imports        0.0005\n",
       "income        74.0070\n",
       "inflation      0.0002\n",
       "life_expec     0.0001\n",
       "total_fer      0.0000\n",
       "gdpp          25.9898\n",
       "dtype: float64"
      ]
     },
     "execution_count": 27,
     "metadata": {},
     "output_type": "execute_result"
    }
   ],
   "source": [
    "# Checking the current variance of each column in final dataset (country_df_2)\n",
    "round(100*(country_df_2.var())/sum(country_df_2.var()),4)"
   ]
  },
  {
   "cell_type": "code",
   "execution_count": 28,
   "metadata": {},
   "outputs": [],
   "source": [
    "# initializing PCA object\n",
    "pca=PCA(svd_solver='randomized',random_state=42)"
   ]
  },
  {
   "cell_type": "code",
   "execution_count": 29,
   "metadata": {},
   "outputs": [
    {
     "data": {
      "text/plain": [
       "PCA(copy=True, iterated_power='auto', n_components=None, random_state=42,\n",
       "    svd_solver='randomized', tol=0.0, whiten=False)"
      ]
     },
     "execution_count": 29,
     "metadata": {},
     "output_type": "execute_result"
    }
   ],
   "source": [
    "pca.fit(country_df_scaled)"
   ]
  },
  {
   "cell_type": "code",
   "execution_count": 30,
   "metadata": {},
   "outputs": [
    {
     "data": {
      "text/plain": [
       "array([[-0.4291696 ,  0.29183495,  0.06477779,  0.15850847,  0.42319401,\n",
       "        -0.12537776,  0.40243316, -0.41684983,  0.41327441],\n",
       "       [-0.10198291, -0.31750933, -0.31896151, -0.69875747,  0.15776467,\n",
       "         0.44799499,  0.23173927, -0.05707795,  0.12743106],\n",
       "       [ 0.25928151,  0.56799609, -0.50992779,  0.15597753,  0.25168993,\n",
       "         0.34298677, -0.22042217,  0.24232836,  0.19365302],\n",
       "       [ 0.18859945, -0.04539307,  0.73462399, -0.0146345 ,  0.24616356,\n",
       "         0.44813343, -0.19177332,  0.13535458,  0.32552296],\n",
       "       [-0.28138164,  0.13227101,  0.05912306,  0.33172055, -0.32672384,\n",
       "         0.6646743 ,  0.25253699, -0.15754817, -0.39071466],\n",
       "       [ 0.11537886, -0.15071723, -0.11863878,  0.05694069,  0.06562984,\n",
       "         0.10852259, -0.57437045, -0.77432536, -0.03300055],\n",
       "       [ 0.02218689, -0.66253815, -0.27197268,  0.58634448,  0.12125165,\n",
       "         0.10425033,  0.09299015,  0.16070405,  0.28764372],\n",
       "       [ 0.78077117,  0.02934809,  0.03270498,  0.04247925, -0.01531444,\n",
       "        -0.01217628,  0.54437529, -0.29601853, -0.04802867],\n",
       "       [ 0.00570123,  0.09649191, -0.04194265, -0.05643406, -0.73897265,\n",
       "         0.02306375, -0.0177075 , -0.08989152,  0.65628215]])"
      ]
     },
     "execution_count": 30,
     "metadata": {},
     "output_type": "execute_result"
    }
   ],
   "source": [
    "pca.components_"
   ]
  },
  {
   "cell_type": "code",
   "execution_count": 31,
   "metadata": {},
   "outputs": [
    {
     "data": {
      "text/plain": [
       "array([0.4510976 , 0.16565771, 0.13888526, 0.10011146, 0.07636439,\n",
       "       0.03125913, 0.02022004, 0.0113711 , 0.00503332])"
      ]
     },
     "execution_count": 31,
     "metadata": {},
     "output_type": "execute_result"
    }
   ],
   "source": [
    "pca.explained_variance_ratio_"
   ]
  },
  {
   "cell_type": "code",
   "execution_count": 32,
   "metadata": {},
   "outputs": [
    {
     "data": {
      "text/plain": [
       "Text(0, 0.5, 'Cumulative variance explained')"
      ]
     },
     "execution_count": 32,
     "metadata": {},
     "output_type": "execute_result"
    },
    {
     "data": {
      "image/png": "[encoded data removed]",
      "text/plain": [
       "<Figure size 720x576 with 1 Axes>"
      ]
     },
     "metadata": {
      "needs_background": "light"
     },
     "output_type": "display_data"
    }
   ],
   "source": [
    "# Visualize the variance ratios viz a viz number of PCs to get a better understanding\n",
    "cumulative_variance=np.cumsum(pca.explained_variance_ratio_)\n",
    "# Scree Plot\n",
    "\n",
    "fig = plt.figure(figsize = (10,8))\n",
    "plt.plot(range(1,len(cumulative_variance)+1),cumulative_variance)\n",
    "plt.xlabel('Number of Principal Components')\n",
    "plt.ylabel('Cumulative variance explained')\n"
   ]
  },
  {
   "cell_type": "markdown",
   "metadata": {},
   "source": [
    "Looking at the plot, when number of principal components is 5 we get 95% variance explanation."
   ]
  },
  {
   "cell_type": "markdown",
   "metadata": {},
   "source": [
    "Hence, computing PCA after taking number of components as 5"
   ]
  },
  {
   "cell_type": "code",
   "execution_count": 33,
   "metadata": {},
   "outputs": [
    {
     "data": {
      "text/plain": [
       "array([[-2.96136075e+00, -5.28946820e-01, -4.81771348e-01,\n",
       "         6.96992224e-01, -3.85601782e-01],\n",
       "       [ 1.04269978e+00,  1.77282055e-01, -1.11258156e+00,\n",
       "        -5.50550387e-01,  3.96007407e-01],\n",
       "       [ 6.07629241e-01,  1.43021235e+00,  3.09403129e-01,\n",
       "        -6.06020829e-01,  4.31738497e-01],\n",
       "       [-2.19294472e+00,  8.16974044e-02,  2.86062037e+00,\n",
       "        -3.82194316e-02,  1.40092801e-02],\n",
       "       [ 2.58800796e+00, -9.98973377e-02,  1.58818964e-01,\n",
       "        -2.33432264e-02, -5.65750958e-01],\n",
       "       [ 1.33796601e+00,  2.24200496e+00, -8.33621091e-01,\n",
       "         1.43003022e+00, -1.96788730e-01],\n",
       "       [ 3.83660283e-01,  6.66464720e-01, -8.03334593e-01,\n",
       "        -1.18805281e+00,  5.28651235e-01],\n",
       "       [ 8.99572371e-01,  1.12833595e+00,  4.98718489e-01,\n",
       "         1.70989763e-01, -1.91673043e-01],\n",
       "       [ 4.70836710e+00,  8.53568867e-01,  2.28732030e+00,\n",
       "         1.12758041e+00, -1.88136780e+00],\n",
       "       [-1.00005322e+00,  1.35475160e+00, -8.11138597e-01,\n",
       "        -1.51002788e+00,  4.80036049e-02],\n",
       "       [ 2.66869106e+00,  7.45994846e-02, -5.61160577e-01,\n",
       "         7.25260029e-01, -9.51349409e-01],\n",
       "       [ 1.76030130e+00, -1.74097790e-01,  5.65624988e-01,\n",
       "        -9.80771765e-02,  9.03767262e-01],\n",
       "       [ 9.12738280e-01, -7.87389003e-01,  2.89693503e-01,\n",
       "        -1.02686433e+00,  3.07440771e-01],\n",
       "       [-2.61526937e+00, -1.80537760e-01,  3.06605232e-01,\n",
       "        -8.57497317e-01, -9.66326735e-01],\n",
       "       [ 3.36854961e-01, -9.39867680e-01,  3.53021480e-02,\n",
       "        -9.43940220e-01,  8.47733963e-01],\n",
       "       [-3.87066909e-01,  4.78212276e-01, -1.50509690e-03,\n",
       "        -8.64048075e-01,  2.98567848e-01],\n",
       "       [ 1.51093686e+00, -6.53449263e-01, -2.28210819e+00,\n",
       "         7.51845845e-01,  4.75726403e-01],\n",
       "       [ 2.11555622e-02, -7.92749972e-01,  2.39015532e-01,\n",
       "         1.15014855e+00, -4.50242199e-01],\n",
       "       [ 1.22157505e+00,  1.80743260e+00, -1.79783557e+00,\n",
       "         1.19936374e+00, -9.55215043e-01],\n",
       "       [ 1.95612416e+00, -3.81157492e-01, -3.11529540e-01,\n",
       "        -2.46894543e-01, -5.33831618e-02],\n",
       "       [-3.15713761e+00, -1.28370775e-01, -1.08692094e-01,\n",
       "         3.89656711e-01, -8.88309695e-01],\n",
       "       [-3.26648389e-01, -1.21175626e+00,  1.49386872e-01,\n",
       "        -9.46888416e-01,  6.10964928e-01],\n",
       "       [-2.72928429e+00,  3.04211758e-02,  8.77655592e-02,\n",
       "        -3.34587436e-01, -1.23922011e+00],\n",
       "       [ 3.27704835e-01, -4.58939495e-01, -2.69817956e-01,\n",
       "        -1.49075561e+00,  3.03189983e-01],\n",
       "       [-4.03588461e+00, -6.13338634e-02,  4.97013853e-01,\n",
       "        -3.71057101e-01, -1.78989795e+00],\n",
       "       [-3.41311730e+00, -7.49124724e-01,  1.39596875e+00,\n",
       "        -1.06497275e-01, -1.01644903e+00],\n",
       "       [ 2.49733641e+00,  1.14979051e+00, -5.71899413e-01,\n",
       "         9.17456761e-01, -5.66123663e-01],\n",
       "       [ 6.97560573e-01,  1.41318761e+00, -9.24603340e-01,\n",
       "        -8.63447263e-01, -2.08640788e-02],\n",
       "       [ 7.79589410e-01,  1.37691229e+00, -1.77293478e+00,\n",
       "         3.80170366e-02, -4.95421806e-01],\n",
       "       [-2.03585572e+00, -3.41016315e-01, -1.54686417e-01,\n",
       "        -8.68791435e-01, -2.16916306e-01],\n",
       "       [-9.32596229e-01, -5.65863829e-01,  3.03674320e+00,\n",
       "        -7.42869251e-01,  8.72659769e-01],\n",
       "       [ 1.83988972e+00,  3.48458310e-01, -1.83338986e+00,\n",
       "         1.23737228e+00,  9.79752672e-02],\n",
       "       [-2.34228097e+00, -9.45116654e-01,  1.16804012e+00,\n",
       "        -1.73186650e-01, -6.24003124e-01],\n",
       "       [ 2.71477078e+00,  5.85541432e-01, -6.69811605e-01,\n",
       "         6.12464569e-01, -1.04034448e+00],\n",
       "       [ 4.46767898e+00, -4.91095012e-01,  7.26904692e-01,\n",
       "         1.14231161e+00, -1.37587840e+00],\n",
       "       [ 4.71301275e-01,  8.32798697e-01, -8.77939654e-01,\n",
       "        -2.56780426e-01, -2.94437007e-01],\n",
       "       [ 5.89731965e-01,  6.23981650e-01, -1.28846945e+00,\n",
       "         2.15186707e-01,  1.54935239e-01],\n",
       "       [-3.31798643e-01,  1.27352541e+00, -4.66615392e-01,\n",
       "        -6.91199096e-01, -4.54226445e-02],\n",
       "       [ 4.92459131e-01, -3.21130440e-02, -1.25345485e+00,\n",
       "        -5.43113689e-01,  3.09641155e-01],\n",
       "       [ 1.41875417e+00,  1.10600248e-02,  4.61329345e+00,\n",
       "         2.22418663e+00, -1.50447866e+00],\n",
       "       [-2.42442516e+00,  1.40246381e+00, -1.98540223e-01,\n",
       "        -1.20803207e+00, -2.43008617e-01],\n",
       "       [ 3.64687067e+00, -7.69910601e-01,  1.23095019e+00,\n",
       "         1.51796798e-01, -4.78858606e-01],\n",
       "       [ 4.80468806e-01, -1.05685462e+00,  6.45431401e-01,\n",
       "        -9.22080282e-01,  4.46476654e-01],\n",
       "       [-9.52995928e-02,  1.33686322e+00,  1.97808047e+00,\n",
       "         1.35683192e-01, -9.06312105e-01],\n",
       "       [-2.17922313e+00, -3.11142286e-01, -1.59222449e-01,\n",
       "        -4.24061157e-01, -3.17476770e-01],\n",
       "       [ 7.17057884e-01, -6.35846558e-01, -1.57539283e+00,\n",
       "         6.74785625e-01,  9.40128643e-01],\n",
       "       [-1.78039425e+00,  5.66600450e-02,  4.05814133e-01,\n",
       "        -8.96701026e-02,  4.46231601e-01],\n",
       "       [ 9.86037630e-01,  1.20725538e-01, -7.97027599e-01,\n",
       "        -4.92298543e-01, -4.07086480e-01],\n",
       "       [-2.98587615e-01,  2.86629130e-01, -9.48736013e-01,\n",
       "        -2.44281852e-01, -6.62679025e-03],\n",
       "       [-2.81808992e+00, -1.38362584e-01,  8.72539673e-01,\n",
       "         4.33244497e-02,  2.47727042e-02],\n",
       "       [-2.95167457e+00, -6.93638250e-01, -7.86466498e-01,\n",
       "         7.87136427e-01, -9.66114510e-01],\n",
       "       [ 2.45609180e-01, -1.59416089e+00,  5.15094512e-01,\n",
       "        -7.24723174e-01,  7.96183501e-01],\n",
       "       [-4.43133177e+00, -2.27416266e+00,  8.62284262e-01,\n",
       "         1.18496709e+00, -1.56290556e+00],\n",
       "       [ 3.72444540e+00, -1.39871769e+00,  1.10727071e+00,\n",
       "         4.59974615e-01, -9.51483991e-02],\n",
       "       [-1.08404361e+00,  9.58262163e-01, -3.39284585e-01,\n",
       "        -1.01331782e+00, -5.10852589e-02],\n",
       "       [-3.48378042e-01,  1.85741310e+00,  1.11235305e-01,\n",
       "        -1.19953895e+00,  1.95425420e-01],\n",
       "       [ 1.07495467e+00,  2.03257275e+00, -4.64863903e-01,\n",
       "         9.16532707e-02, -9.47939456e-02],\n",
       "       [-2.64887139e-01,  3.81432662e-01, -1.25157624e-02,\n",
       "         1.20327679e+00,  1.03375089e-01],\n",
       "       [ 7.00751085e-01,  4.52996556e-01, -3.56647084e-01,\n",
       "        -8.46557234e-01,  6.17147886e-01],\n",
       "       [ 8.19974824e-01, -1.06446257e+00, -2.53180554e-01,\n",
       "         1.98708090e-01,  9.48992208e-01],\n",
       "       [ 1.19524342e+00,  1.57833606e+00,  1.09963058e+00,\n",
       "         2.44967536e-01, -2.26133045e-01],\n",
       "       [-1.79321883e+00,  1.61743450e-01, -3.89025516e-01,\n",
       "        -8.90511815e-01, -5.35251203e-01],\n",
       "       [-1.28303147e+00, -2.38859031e+00, -1.75767385e+00,\n",
       "         1.22670441e+00,  3.24136849e-01],\n",
       "       [-6.15887647e-03, -1.67066688e+00,  2.40053685e-01,\n",
       "        -6.13667422e-01,  1.52454574e+00],\n",
       "       [-1.22763129e+00, -2.54602094e-01,  3.76182729e-01,\n",
       "        -7.43338059e-01,  2.05112306e-01],\n",
       "       [ 2.65398521e+00, -3.84874420e-01,  4.40477374e-02,\n",
       "         1.67069076e-03, -5.97223400e-01],\n",
       "       [ 2.33698646e+00, -2.25482006e-01, -7.66610291e-01,\n",
       "        -1.63903017e-01, -1.04578511e-01],\n",
       "       [-1.69231800e+00, -3.90775676e+00, -1.76367857e-01,\n",
       "         1.64249715e+00,  3.71692795e-01],\n",
       "       [ 2.92763918e+00,  1.15745419e+00,  1.91040333e+00,\n",
       "         1.38864198e-01, -5.58893721e-01],\n",
       "       [ 3.09857095e+00, -8.56050708e-01,  6.17490611e-01,\n",
       "         3.49607309e-01, -2.92868974e-01],\n",
       "       [ 1.45935709e+00, -5.28914708e-01, -8.34217315e-01,\n",
       "        -4.17463135e-01,  4.00003587e-01],\n",
       "       [-2.02544105e+00,  5.27249785e-02,  2.66365062e-01,\n",
       "        -9.70267090e-01,  2.74099370e-02],\n",
       "       [-2.96752902e+00, -2.10347206e-01,  8.95391687e-02,\n",
       "         4.59652326e-01, -3.54855251e-01],\n",
       "       [ 2.92019664e+00, -8.44301662e-01,  1.97303290e+00,\n",
       "        -5.47064201e-01,  3.40430340e-01],\n",
       "       [ 2.17721353e+00, -1.13038132e+00,  6.18480018e-01,\n",
       "        -5.82706379e-01,  6.48942035e-01],\n",
       "       [-3.37762058e+00, -2.51819365e-01,  5.84338689e-01,\n",
       "        -1.49816378e-01, -1.15516574e+00],\n",
       "       [-1.52797305e+00, -5.42902701e-01,  1.49068241e+00,\n",
       "        -2.95066852e-01,  9.15684084e-01],\n",
       "       [ 2.08886736e+00, -5.86306695e-01,  9.77653922e-02,\n",
       "        -4.07618426e-01, -7.83550260e-02],\n",
       "       [-2.79877496e-01, -2.63881913e+00, -2.26821098e+00,\n",
       "         2.13846870e+00,  7.78153787e-01],\n",
       "       [ 7.54977116e-01, -1.91869609e+00, -1.69719885e+00,\n",
       "         1.10332478e+00,  1.79925379e+00],\n",
       "       [-1.49060961e-01,  6.76319313e-01,  1.14455869e+00,\n",
       "         6.01016413e-01,  2.39212254e+00],\n",
       "       [ 1.92533796e+00, -7.77055745e-01, -1.21407963e+00,\n",
       "         4.15760209e-01,  2.64751840e-01],\n",
       "       [ 1.83055589e-01,  1.03696414e-01, -6.70779518e-01,\n",
       "        -1.10766364e+00,  4.04009453e-02],\n",
       "       [-2.85807957e+00, -7.37821806e-01,  6.72793206e-01,\n",
       "        -1.63422503e-01, -4.46811931e-01],\n",
       "       [-1.72273010e+00,  2.50165782e+00, -8.36931172e-01,\n",
       "        -1.74998210e+00, -7.74283356e-01],\n",
       "       [-3.53948283e-01, -1.31920489e+00,  5.10727687e-01,\n",
       "         2.36233282e-01, -3.65065311e-01],\n",
       "       [-1.20690753e+00,  9.19227302e-01, -9.65184614e-01,\n",
       "        -5.90573183e-01,  7.21865412e-01],\n",
       "       [-3.48210790e+00, -8.97614739e-01,  6.15695983e-01,\n",
       "        -1.94997504e-01, -9.68059361e-01],\n",
       "       [-3.93787606e+00,  4.44008674e+00,  3.48266972e+00,\n",
       "         3.90750228e+00,  4.25393958e+00],\n",
       "       [-2.13094211e+00,  1.55331995e+00,  2.35120526e-01,\n",
       "        -1.25425204e+00, -5.37340477e-01],\n",
       "       [ 2.39800784e+00, -1.64187692e+00,  4.00342312e-01,\n",
       "         2.83743500e-01,  4.70172855e-01],\n",
       "       [ 7.22072447e-01, -4.00877384e-01,  4.84996712e-02,\n",
       "        -7.34911093e-01,  6.54178409e-01],\n",
       "       [ 6.59303611e-01,  1.36324573e+00, -7.85055161e-01,\n",
       "        -8.37603062e-01, -1.48056510e-01],\n",
       "       [-3.85369707e-01,  4.65407299e-01, -4.23042272e-02,\n",
       "        -1.42688991e+00,  1.87768489e-03],\n",
       "       [ 2.81167619e+00,  4.89970450e-01, -4.74635739e-01,\n",
       "         5.18702338e-01, -8.97835687e-01],\n",
       "       [ 1.75463532e+00,  7.73778719e-01, -4.12472718e-01,\n",
       "        -3.35185676e-01, -5.43324492e-01],\n",
       "       [ 1.73759005e+00,  2.01262318e+00,  1.65533129e-01,\n",
       "         3.81284928e-01, -8.18557307e-01],\n",
       "       [-1.85355345e+00, -3.56118780e-01, -2.02661224e+00,\n",
       "         9.44411428e-01, -3.60647403e-01],\n",
       "       [-1.80648101e-01, -4.55135439e-01, -7.05324450e-01,\n",
       "        -5.16418454e-01,  1.17669077e-01],\n",
       "       [-1.84092105e+00, -2.95394502e-01, -3.28849678e-01,\n",
       "        -5.69336257e-01, -4.39206434e-01],\n",
       "       [ 1.55913949e+00, -2.88010946e-01, -1.71874713e+00,\n",
       "         9.05911302e-01,  4.09852643e-01],\n",
       "       [ 3.41229987e+00, -2.61955862e+00,  2.47258144e+00,\n",
       "        -1.20860393e+00,  1.27742155e-01],\n",
       "       [-3.53223992e+00, -9.37039542e-01, -1.03090588e+00,\n",
       "         3.07164835e+00, -3.46376956e-01],\n",
       "       [ 4.17703800e+00, -1.46291924e+00,  8.22691519e-01,\n",
       "         1.21243492e+00, -5.92175549e-01],\n",
       "       [-5.91548379e-01, -2.31830031e+00, -1.22851054e-01,\n",
       "         2.92276809e-01,  1.06634241e+00],\n",
       "       [-4.06520282e-01,  4.85491753e-02, -5.72871638e-01,\n",
       "         1.38023930e+00, -1.18265871e+00],\n",
       "       [ 5.70441550e-02,  2.20926802e+00, -1.51966353e-01,\n",
       "        -1.03898644e+00,  1.02686873e+00],\n",
       "       [ 8.38289981e-01,  8.03759106e-02, -2.95574105e-01,\n",
       "        -9.18786932e-01,  7.91138181e-02],\n",
       "       [-2.11757298e+00,  1.31303234e+00, -2.48390506e-01,\n",
       "         4.21903232e-01,  1.13294027e-01],\n",
       "       [ 1.29890031e+00,  1.77169944e-01,  1.47836322e-01,\n",
       "         3.43673611e-01, -3.09230663e-01],\n",
       "       [-1.11857849e+00, -1.79576733e-01, -7.23535777e-01,\n",
       "        -3.93964583e-01,  8.97597501e-01],\n",
       "       [-2.51381597e+00,  2.80982301e-01, -2.50560114e-01,\n",
       "         1.86637535e-03, -4.21430690e-01],\n",
       "       [ 1.98027695e+00, -4.01635692e-01,  8.04241454e-01,\n",
       "        -1.37762404e+00,  5.65804267e-01],\n",
       "       [-2.16411968e+00,  1.23163002e+00, -1.05384481e+00,\n",
       "         1.68548987e+00,  6.43897070e-01],\n",
       "       [-1.96587083e+00, -1.69975847e+00, -1.59674482e-02,\n",
       "         1.55824923e-01, -2.53743237e-01],\n",
       "       [-3.88668331e-01, -2.01923116e-01, -7.96623237e-01,\n",
       "        -8.78094211e-01,  2.21995366e-01],\n",
       "       [ 1.34226178e+00, -3.96204255e-01, -2.72164213e-01,\n",
       "        -6.92637909e-01,  5.51006134e-01],\n",
       "       [ 1.67960077e+00,  1.58213955e+00, -9.00182820e-01,\n",
       "         3.79780629e-01, -8.09623763e-01],\n",
       "       [ 4.42033381e-01, -3.44808985e-01,  1.81043250e+00,\n",
       "        -1.52961615e+00, -3.12056913e-01],\n",
       "       [-2.92684632e+00, -1.82700923e-01, -7.21873453e-01,\n",
       "         1.17972817e+00, -4.65873789e-01],\n",
       "       [ 8.84634271e-01, -2.54817435e-01, -5.63892570e-01,\n",
       "         8.75420543e-02,  1.17484085e+00],\n",
       "       [ 1.91435665e+00,  1.16818584e+00, -1.15619352e+00,\n",
       "         8.62573353e-01, -9.05518399e-01],\n",
       "       [-5.40499624e-01,  9.45165849e-01, -4.99332835e-01,\n",
       "        -3.55740665e-01,  7.86409612e-01],\n",
       "       [-4.43486330e-01, -8.08112999e-01,  1.53750063e-01,\n",
       "        -8.59302122e-01,  1.45369209e-01],\n",
       "       [ 1.21770499e+00,  3.48895353e+00,  1.03766467e+00,\n",
       "         1.53501234e+00,  1.05068876e+00],\n",
       "       [ 1.01837897e+00, -1.71835386e+00,  4.50504774e-01,\n",
       "        -5.16597354e-01,  1.97220020e+00],\n",
       "       [-1.52445505e+00,  9.55616052e-01,  3.97485144e-01,\n",
       "         5.18089386e-02,  8.48787758e-01],\n",
       "       [-2.62110269e+00, -6.15032973e-02,  7.91708816e-01,\n",
       "         4.17588486e-01, -4.07815754e-01]])"
      ]
     },
     "execution_count": 33,
     "metadata": {},
     "output_type": "execute_result"
    }
   ],
   "source": [
    "pca_final=PCA(n_components=5,random_state=42)\n",
    "PCA_df=pca_final.fit_transform(country_df_scaled)\n",
    "PCA_df"
   ]
  },
  {
   "cell_type": "code",
   "execution_count": 34,
   "metadata": {},
   "outputs": [
    {
     "data": {
      "text/html": [
       "<div>\n",
       "<style scoped>\n",
       "    .dataframe tbody tr th:only-of-type {\n",
       "        vertical-align: middle;\n",
       "    }\n",
       "\n",
       "    .dataframe tbody tr th {\n",
       "        vertical-align: top;\n",
       "    }\n",
       "\n",
       "    .dataframe thead th {\n",
       "        text-align: right;\n",
       "    }\n",
       "</style>\n",
       "<table border=\"1\" class=\"dataframe\">\n",
       "  <thead>\n",
       "    <tr style=\"text-align: right;\">\n",
       "      <th></th>\n",
       "      <th>PC1</th>\n",
       "      <th>PC2</th>\n",
       "      <th>PC3</th>\n",
       "      <th>PC4</th>\n",
       "      <th>PC5</th>\n",
       "    </tr>\n",
       "  </thead>\n",
       "  <tbody>\n",
       "    <tr>\n",
       "      <th>0</th>\n",
       "      <td>-2.961361</td>\n",
       "      <td>-0.528947</td>\n",
       "      <td>-0.481771</td>\n",
       "      <td>0.696992</td>\n",
       "      <td>-0.385602</td>\n",
       "    </tr>\n",
       "    <tr>\n",
       "      <th>1</th>\n",
       "      <td>1.042700</td>\n",
       "      <td>0.177282</td>\n",
       "      <td>-1.112582</td>\n",
       "      <td>-0.550550</td>\n",
       "      <td>0.396007</td>\n",
       "    </tr>\n",
       "    <tr>\n",
       "      <th>2</th>\n",
       "      <td>0.607629</td>\n",
       "      <td>1.430212</td>\n",
       "      <td>0.309403</td>\n",
       "      <td>-0.606021</td>\n",
       "      <td>0.431738</td>\n",
       "    </tr>\n",
       "    <tr>\n",
       "      <th>3</th>\n",
       "      <td>-2.192945</td>\n",
       "      <td>0.081697</td>\n",
       "      <td>2.860620</td>\n",
       "      <td>-0.038219</td>\n",
       "      <td>0.014009</td>\n",
       "    </tr>\n",
       "    <tr>\n",
       "      <th>4</th>\n",
       "      <td>2.588008</td>\n",
       "      <td>-0.099897</td>\n",
       "      <td>0.158819</td>\n",
       "      <td>-0.023343</td>\n",
       "      <td>-0.565751</td>\n",
       "    </tr>\n",
       "  </tbody>\n",
       "</table>\n",
       "</div>"
      ],
      "text/plain": [
       "        PC1       PC2       PC3       PC4       PC5\n",
       "0 -2.961361 -0.528947 -0.481771  0.696992 -0.385602\n",
       "1  1.042700  0.177282 -1.112582 -0.550550  0.396007\n",
       "2  0.607629  1.430212  0.309403 -0.606021  0.431738\n",
       "3 -2.192945  0.081697  2.860620 -0.038219  0.014009\n",
       "4  2.588008 -0.099897  0.158819 -0.023343 -0.565751"
      ]
     },
     "execution_count": 34,
     "metadata": {},
     "output_type": "execute_result"
    }
   ],
   "source": [
    "# Creating a Dataframe with chosen PCs for convenience\n",
    "PCA_df=pd.DataFrame(PCA_df,columns=['PC1','PC2','PC3','PC4','PC5'])\n",
    "PCA_df.head()"
   ]
  },
  {
   "cell_type": "code",
   "execution_count": 35,
   "metadata": {},
   "outputs": [
    {
     "data": {
      "text/plain": [
       "(128, 5)"
      ]
     },
     "execution_count": 35,
     "metadata": {},
     "output_type": "execute_result"
    }
   ],
   "source": [
    "PCA_df.shape"
   ]
  },
  {
   "cell_type": "code",
   "execution_count": 36,
   "metadata": {},
   "outputs": [
    {
     "data": {
      "text/html": [
       "<div>\n",
       "<style scoped>\n",
       "    .dataframe tbody tr th:only-of-type {\n",
       "        vertical-align: middle;\n",
       "    }\n",
       "\n",
       "    .dataframe tbody tr th {\n",
       "        vertical-align: top;\n",
       "    }\n",
       "\n",
       "    .dataframe thead th {\n",
       "        text-align: right;\n",
       "    }\n",
       "</style>\n",
       "<table border=\"1\" class=\"dataframe\">\n",
       "  <thead>\n",
       "    <tr style=\"text-align: right;\">\n",
       "      <th></th>\n",
       "      <th>PC1</th>\n",
       "      <th>PC2</th>\n",
       "      <th>PC3</th>\n",
       "      <th>PC4</th>\n",
       "      <th>PC5</th>\n",
       "      <th>country</th>\n",
       "    </tr>\n",
       "  </thead>\n",
       "  <tbody>\n",
       "    <tr>\n",
       "      <th>0</th>\n",
       "      <td>-2.961361</td>\n",
       "      <td>-0.528947</td>\n",
       "      <td>-0.481771</td>\n",
       "      <td>0.696992</td>\n",
       "      <td>-0.385602</td>\n",
       "      <td>Afghanistan</td>\n",
       "    </tr>\n",
       "    <tr>\n",
       "      <th>1</th>\n",
       "      <td>1.042700</td>\n",
       "      <td>0.177282</td>\n",
       "      <td>-1.112582</td>\n",
       "      <td>-0.550550</td>\n",
       "      <td>0.396007</td>\n",
       "      <td>Albania</td>\n",
       "    </tr>\n",
       "    <tr>\n",
       "      <th>2</th>\n",
       "      <td>0.607629</td>\n",
       "      <td>1.430212</td>\n",
       "      <td>0.309403</td>\n",
       "      <td>-0.606021</td>\n",
       "      <td>0.431738</td>\n",
       "      <td>Algeria</td>\n",
       "    </tr>\n",
       "    <tr>\n",
       "      <th>3</th>\n",
       "      <td>-2.192945</td>\n",
       "      <td>0.081697</td>\n",
       "      <td>2.860620</td>\n",
       "      <td>-0.038219</td>\n",
       "      <td>0.014009</td>\n",
       "      <td>Angola</td>\n",
       "    </tr>\n",
       "    <tr>\n",
       "      <th>4</th>\n",
       "      <td>2.588008</td>\n",
       "      <td>-0.099897</td>\n",
       "      <td>0.158819</td>\n",
       "      <td>-0.023343</td>\n",
       "      <td>-0.565751</td>\n",
       "      <td>Antigua and Barbuda</td>\n",
       "    </tr>\n",
       "    <tr>\n",
       "      <th>5</th>\n",
       "      <td>1.337966</td>\n",
       "      <td>2.242005</td>\n",
       "      <td>-0.833621</td>\n",
       "      <td>1.430030</td>\n",
       "      <td>-0.196789</td>\n",
       "      <td>Argentina</td>\n",
       "    </tr>\n",
       "    <tr>\n",
       "      <th>6</th>\n",
       "      <td>0.383660</td>\n",
       "      <td>0.666465</td>\n",
       "      <td>-0.803335</td>\n",
       "      <td>-1.188053</td>\n",
       "      <td>0.528651</td>\n",
       "      <td>Armenia</td>\n",
       "    </tr>\n",
       "    <tr>\n",
       "      <th>7</th>\n",
       "      <td>0.899572</td>\n",
       "      <td>1.128336</td>\n",
       "      <td>0.498718</td>\n",
       "      <td>0.170990</td>\n",
       "      <td>-0.191673</td>\n",
       "      <td>Azerbaijan</td>\n",
       "    </tr>\n",
       "    <tr>\n",
       "      <th>8</th>\n",
       "      <td>4.708367</td>\n",
       "      <td>0.853569</td>\n",
       "      <td>2.287320</td>\n",
       "      <td>1.127580</td>\n",
       "      <td>-1.881368</td>\n",
       "      <td>Bahrain</td>\n",
       "    </tr>\n",
       "    <tr>\n",
       "      <th>9</th>\n",
       "      <td>-1.000053</td>\n",
       "      <td>1.354752</td>\n",
       "      <td>-0.811139</td>\n",
       "      <td>-1.510028</td>\n",
       "      <td>0.048004</td>\n",
       "      <td>Bangladesh</td>\n",
       "    </tr>\n",
       "    <tr>\n",
       "      <th>10</th>\n",
       "      <td>2.668691</td>\n",
       "      <td>0.074599</td>\n",
       "      <td>-0.561161</td>\n",
       "      <td>0.725260</td>\n",
       "      <td>-0.951349</td>\n",
       "      <td>Barbados</td>\n",
       "    </tr>\n",
       "    <tr>\n",
       "      <th>11</th>\n",
       "      <td>1.760301</td>\n",
       "      <td>-0.174098</td>\n",
       "      <td>0.565625</td>\n",
       "      <td>-0.098077</td>\n",
       "      <td>0.903767</td>\n",
       "      <td>Belarus</td>\n",
       "    </tr>\n",
       "    <tr>\n",
       "      <th>12</th>\n",
       "      <td>0.912738</td>\n",
       "      <td>-0.787389</td>\n",
       "      <td>0.289694</td>\n",
       "      <td>-1.026864</td>\n",
       "      <td>0.307441</td>\n",
       "      <td>Belize</td>\n",
       "    </tr>\n",
       "    <tr>\n",
       "      <th>13</th>\n",
       "      <td>-2.615269</td>\n",
       "      <td>-0.180538</td>\n",
       "      <td>0.306605</td>\n",
       "      <td>-0.857497</td>\n",
       "      <td>-0.966327</td>\n",
       "      <td>Benin</td>\n",
       "    </tr>\n",
       "    <tr>\n",
       "      <th>14</th>\n",
       "      <td>0.336855</td>\n",
       "      <td>-0.939868</td>\n",
       "      <td>0.035302</td>\n",
       "      <td>-0.943940</td>\n",
       "      <td>0.847734</td>\n",
       "      <td>Bhutan</td>\n",
       "    </tr>\n",
       "    <tr>\n",
       "      <th>15</th>\n",
       "      <td>-0.387067</td>\n",
       "      <td>0.478212</td>\n",
       "      <td>-0.001505</td>\n",
       "      <td>-0.864048</td>\n",
       "      <td>0.298568</td>\n",
       "      <td>Bolivia</td>\n",
       "    </tr>\n",
       "    <tr>\n",
       "      <th>16</th>\n",
       "      <td>1.510937</td>\n",
       "      <td>-0.653449</td>\n",
       "      <td>-2.282108</td>\n",
       "      <td>0.751846</td>\n",
       "      <td>0.475726</td>\n",
       "      <td>Bosnia and Herzegovina</td>\n",
       "    </tr>\n",
       "    <tr>\n",
       "      <th>17</th>\n",
       "      <td>0.021156</td>\n",
       "      <td>-0.792750</td>\n",
       "      <td>0.239016</td>\n",
       "      <td>1.150149</td>\n",
       "      <td>-0.450242</td>\n",
       "      <td>Botswana</td>\n",
       "    </tr>\n",
       "    <tr>\n",
       "      <th>18</th>\n",
       "      <td>1.221575</td>\n",
       "      <td>1.807433</td>\n",
       "      <td>-1.797836</td>\n",
       "      <td>1.199364</td>\n",
       "      <td>-0.955215</td>\n",
       "      <td>Brazil</td>\n",
       "    </tr>\n",
       "    <tr>\n",
       "      <th>19</th>\n",
       "      <td>1.956124</td>\n",
       "      <td>-0.381157</td>\n",
       "      <td>-0.311530</td>\n",
       "      <td>-0.246895</td>\n",
       "      <td>-0.053383</td>\n",
       "      <td>Bulgaria</td>\n",
       "    </tr>\n",
       "  </tbody>\n",
       "</table>\n",
       "</div>"
      ],
      "text/plain": [
       "         PC1       PC2       PC3       PC4       PC5                 country\n",
       "0  -2.961361 -0.528947 -0.481771  0.696992 -0.385602             Afghanistan\n",
       "1   1.042700  0.177282 -1.112582 -0.550550  0.396007                 Albania\n",
       "2   0.607629  1.430212  0.309403 -0.606021  0.431738                 Algeria\n",
       "3  -2.192945  0.081697  2.860620 -0.038219  0.014009                  Angola\n",
       "4   2.588008 -0.099897  0.158819 -0.023343 -0.565751     Antigua and Barbuda\n",
       "5   1.337966  2.242005 -0.833621  1.430030 -0.196789               Argentina\n",
       "6   0.383660  0.666465 -0.803335 -1.188053  0.528651                 Armenia\n",
       "7   0.899572  1.128336  0.498718  0.170990 -0.191673              Azerbaijan\n",
       "8   4.708367  0.853569  2.287320  1.127580 -1.881368                 Bahrain\n",
       "9  -1.000053  1.354752 -0.811139 -1.510028  0.048004              Bangladesh\n",
       "10  2.668691  0.074599 -0.561161  0.725260 -0.951349                Barbados\n",
       "11  1.760301 -0.174098  0.565625 -0.098077  0.903767                 Belarus\n",
       "12  0.912738 -0.787389  0.289694 -1.026864  0.307441                  Belize\n",
       "13 -2.615269 -0.180538  0.306605 -0.857497 -0.966327                   Benin\n",
       "14  0.336855 -0.939868  0.035302 -0.943940  0.847734                  Bhutan\n",
       "15 -0.387067  0.478212 -0.001505 -0.864048  0.298568                 Bolivia\n",
       "16  1.510937 -0.653449 -2.282108  0.751846  0.475726  Bosnia and Herzegovina\n",
       "17  0.021156 -0.792750  0.239016  1.150149 -0.450242                Botswana\n",
       "18  1.221575  1.807433 -1.797836  1.199364 -0.955215                  Brazil\n",
       "19  1.956124 -0.381157 -0.311530 -0.246895 -0.053383                Bulgaria"
      ]
     },
     "execution_count": 36,
     "metadata": {},
     "output_type": "execute_result"
    }
   ],
   "source": [
    "# Add back the country column to this Dataframe\n",
    "PCA_Final_df= pd.concat([PCA_df,countries_list_df],axis=1)\n",
    "PCA_Final_df.reset_index()\n",
    "PCA_Final_df.head(20)"
   ]
  },
  {
   "cell_type": "code",
   "execution_count": 37,
   "metadata": {
    "scrolled": false
   },
   "outputs": [
    {
     "data": {
      "text/plain": [
       "<Figure size 720x720 with 0 Axes>"
      ]
     },
     "metadata": {},
     "output_type": "display_data"
    },
    {
     "data": {
      "image/png": "[encoded data removed]",
      "text/plain": [
       "<Figure size 768.625x576 with 1 Axes>"
      ]
     },
     "metadata": {
      "needs_background": "light"
     },
     "output_type": "display_data"
    }
   ],
   "source": [
    "#Plotting the data\n",
    "plt.figure(figsize=(10,10))\n",
    "plt1 = sns.pairplot(data=PCA_Final_df,x_vars=['PC1'], y_vars=['PC2'],hue='country', size=8)\n",
    "plt1._legend.remove()"
   ]
  },
  {
   "cell_type": "code",
   "execution_count": 38,
   "metadata": {},
   "outputs": [
    {
     "data": {
      "text/plain": [
       "<Figure size 720x720 with 0 Axes>"
      ]
     },
     "metadata": {},
     "output_type": "display_data"
    },
    {
     "data": {
      "image/png": "[encoded data removed]",
      "text/plain": [
       "<Figure size 768.625x576 with 1 Axes>"
      ]
     },
     "metadata": {
      "needs_background": "light"
     },
     "output_type": "display_data"
    }
   ],
   "source": [
    "#Plotting the data\n",
    "plt.figure(figsize=(10,10))\n",
    "plt2 = sns.pairplot(data=PCA_Final_df,x_vars=['PC1'], y_vars=['PC3'],hue='country', size=8)\n",
    "plt2._legend.remove()"
   ]
  },
  {
   "cell_type": "code",
   "execution_count": 39,
   "metadata": {},
   "outputs": [
    {
     "data": {
      "text/plain": [
       "<Figure size 576x720 with 0 Axes>"
      ]
     },
     "metadata": {},
     "output_type": "display_data"
    },
    {
     "data": {
      "image/png": "[encoded data removed]",
      "text/plain": [
       "<Figure size 768.625x576 with 1 Axes>"
      ]
     },
     "metadata": {
      "needs_background": "light"
     },
     "output_type": "display_data"
    }
   ],
   "source": [
    "#Plotting the data\n",
    "plt.figure(figsize=(8,10))\n",
    "plt3 = sns.pairplot(data=PCA_Final_df,x_vars=['PC2'], y_vars=['PC3'],hue='country', size = 8)\n",
    "plt3._legend.remove()"
   ]
  },
  {
   "cell_type": "markdown",
   "metadata": {},
   "source": [
    "The above visualizations between PC1, PPC2, PC3 suggest that the data can be clustered.\n",
    "\n",
    "For further confirmation \"Hopkins Score\" can be used. A good Hopkins Score means data can be clustered."
   ]
  },
  {
   "cell_type": "markdown",
   "metadata": {},
   "source": [
    "### Step 4 : Clustering"
   ]
  },
  {
   "cell_type": "code",
   "execution_count": 40,
   "metadata": {},
   "outputs": [
    {
     "data": {
      "text/html": [
       "<div>\n",
       "<style scoped>\n",
       "    .dataframe tbody tr th:only-of-type {\n",
       "        vertical-align: middle;\n",
       "    }\n",
       "\n",
       "    .dataframe tbody tr th {\n",
       "        vertical-align: top;\n",
       "    }\n",
       "\n",
       "    .dataframe thead th {\n",
       "        text-align: right;\n",
       "    }\n",
       "</style>\n",
       "<table border=\"1\" class=\"dataframe\">\n",
       "  <thead>\n",
       "    <tr style=\"text-align: right;\">\n",
       "      <th></th>\n",
       "      <th>PC1</th>\n",
       "      <th>PC2</th>\n",
       "      <th>PC3</th>\n",
       "      <th>PC4</th>\n",
       "      <th>PC5</th>\n",
       "      <th>country</th>\n",
       "    </tr>\n",
       "  </thead>\n",
       "  <tbody>\n",
       "    <tr>\n",
       "      <th>0</th>\n",
       "      <td>-2.961361</td>\n",
       "      <td>-0.528947</td>\n",
       "      <td>-0.481771</td>\n",
       "      <td>0.696992</td>\n",
       "      <td>-0.385602</td>\n",
       "      <td>Afghanistan</td>\n",
       "    </tr>\n",
       "    <tr>\n",
       "      <th>1</th>\n",
       "      <td>1.042700</td>\n",
       "      <td>0.177282</td>\n",
       "      <td>-1.112582</td>\n",
       "      <td>-0.550550</td>\n",
       "      <td>0.396007</td>\n",
       "      <td>Albania</td>\n",
       "    </tr>\n",
       "    <tr>\n",
       "      <th>2</th>\n",
       "      <td>0.607629</td>\n",
       "      <td>1.430212</td>\n",
       "      <td>0.309403</td>\n",
       "      <td>-0.606021</td>\n",
       "      <td>0.431738</td>\n",
       "      <td>Algeria</td>\n",
       "    </tr>\n",
       "    <tr>\n",
       "      <th>3</th>\n",
       "      <td>-2.192945</td>\n",
       "      <td>0.081697</td>\n",
       "      <td>2.860620</td>\n",
       "      <td>-0.038219</td>\n",
       "      <td>0.014009</td>\n",
       "      <td>Angola</td>\n",
       "    </tr>\n",
       "    <tr>\n",
       "      <th>4</th>\n",
       "      <td>2.588008</td>\n",
       "      <td>-0.099897</td>\n",
       "      <td>0.158819</td>\n",
       "      <td>-0.023343</td>\n",
       "      <td>-0.565751</td>\n",
       "      <td>Antigua and Barbuda</td>\n",
       "    </tr>\n",
       "  </tbody>\n",
       "</table>\n",
       "</div>"
      ],
      "text/plain": [
       "        PC1       PC2       PC3       PC4       PC5              country\n",
       "0 -2.961361 -0.528947 -0.481771  0.696992 -0.385602          Afghanistan\n",
       "1  1.042700  0.177282 -1.112582 -0.550550  0.396007              Albania\n",
       "2  0.607629  1.430212  0.309403 -0.606021  0.431738              Algeria\n",
       "3 -2.192945  0.081697  2.860620 -0.038219  0.014009               Angola\n",
       "4  2.588008 -0.099897  0.158819 -0.023343 -0.565751  Antigua and Barbuda"
      ]
     },
     "execution_count": 40,
     "metadata": {},
     "output_type": "execute_result"
    }
   ],
   "source": [
    "PCA_Final_df.head()"
   ]
  },
  {
   "cell_type": "code",
   "execution_count": 41,
   "metadata": {},
   "outputs": [
    {
     "name": "stdout",
     "output_type": "stream",
     "text": [
      "<class 'pandas.core.frame.DataFrame'>\n",
      "RangeIndex: 128 entries, 0 to 127\n",
      "Data columns (total 6 columns):\n",
      "PC1        128 non-null float64\n",
      "PC2        128 non-null float64\n",
      "PC3        128 non-null float64\n",
      "PC4        128 non-null float64\n",
      "PC5        128 non-null float64\n",
      "country    128 non-null object\n",
      "dtypes: float64(5), object(1)\n",
      "memory usage: 6.1+ KB\n"
     ]
    }
   ],
   "source": [
    "PCA_Final_df.info()"
   ]
  },
  {
   "cell_type": "code",
   "execution_count": 42,
   "metadata": {},
   "outputs": [],
   "source": [
    "PCA_Final2_df = PCA_Final_df.drop('country', axis = 1)"
   ]
  },
  {
   "cell_type": "code",
   "execution_count": 43,
   "metadata": {},
   "outputs": [],
   "source": [
    "#Calculating the Hopkins statistic\n",
    "from sklearn.neighbors import NearestNeighbors\n",
    "from random import sample\n",
    "from numpy.random import uniform\n",
    "from math import isnan\n",
    " \n",
    "def hopkins(X):\n",
    "    d = X.shape[1]\n",
    "    #d = len(vars) # columns\n",
    "    n = len(X) # rows\n",
    "    m = int(0.1 * n) \n",
    "    nbrs = NearestNeighbors(n_neighbors=1).fit(X.values)\n",
    " \n",
    "    rand_X = sample(range(0, n, 1), m)\n",
    " \n",
    "    ujd = []\n",
    "    wjd = []\n",
    "    for j in range(0, m):\n",
    "        u_dist, _ = nbrs.kneighbors(uniform(np.amin(X,axis=0),np.amax(X,axis=0),d).reshape(1, -1), 2, return_distance=True)\n",
    "        ujd.append(u_dist[0][1])\n",
    "        w_dist, _ = nbrs.kneighbors(X.iloc[rand_X[j]].values.reshape(1, -1), 2, return_distance=True)\n",
    "        wjd.append(w_dist[0][1])\n",
    " \n",
    "    H = sum(ujd) / (sum(ujd) + sum(wjd))\n",
    "    if isnan(H):\n",
    "        print(ujd, wjd)\n",
    "        H = 0\n",
    " \n",
    "    return H"
   ]
  },
  {
   "cell_type": "code",
   "execution_count": 44,
   "metadata": {},
   "outputs": [
    {
     "data": {
      "text/plain": [
       "0.7736965750735142"
      ]
     },
     "execution_count": 44,
     "metadata": {},
     "output_type": "execute_result"
    }
   ],
   "source": [
    "hopkins(PCA_Final2_df)"
   ]
  },
  {
   "cell_type": "markdown",
   "metadata": {},
   "source": [
    "#### K- means Clustering\n",
    "\n",
    "#### Looking at the silhouette score plot and choosing the optimal number of cluster"
   ]
  },
  {
   "cell_type": "code",
   "execution_count": 45,
   "metadata": {},
   "outputs": [
    {
     "data": {
      "text/plain": [
       "[<matplotlib.lines.Line2D at 0x1c4770fceb8>]"
      ]
     },
     "execution_count": 45,
     "metadata": {},
     "output_type": "execute_result"
    },
    {
     "data": {
      "image/png": "[encoded data removed]",
      "text/plain": [
       "<Figure size 432x288 with 1 Axes>"
      ]
     },
     "metadata": {
      "needs_background": "light"
     },
     "output_type": "display_data"
    }
   ],
   "source": [
    "sscore = []\n",
    "for k in range(2,10):\n",
    "    kmeans = KMeans(n_clusters = k).fit(PCA_Final2_df)\n",
    "    sscore.append([k, silhouette_score(PCA_Final2_df, kmeans.labels_)])\n",
    "plt.plot(pd.DataFrame(sscore)[0], pd.DataFrame(sscore)[1])"
   ]
  },
  {
   "cell_type": "markdown",
   "metadata": {},
   "source": [
    "#### Looking at the Elbow Curve plot and choosing the optimal number of cluster"
   ]
  },
  {
   "cell_type": "code",
   "execution_count": 46,
   "metadata": {},
   "outputs": [
    {
     "data": {
      "text/plain": [
       "[<matplotlib.lines.Line2D at 0x1c4766a7ac8>]"
      ]
     },
     "execution_count": 46,
     "metadata": {},
     "output_type": "execute_result"
    },
    {
     "data": {
      "image/png": "[encoded data removed]",
      "text/plain": [
       "<Figure size 432x288 with 1 Axes>"
      ]
     },
     "metadata": {
      "needs_background": "light"
     },
     "output_type": "display_data"
    }
   ],
   "source": [
    "ssd = []\n",
    "for k in range(2,10):\n",
    "    kmeans = KMeans(n_clusters = k).fit(PCA_Final2_df)\n",
    "    ssd.append([k, kmeans.inertia_])\n",
    "plt.plot(pd.DataFrame(ssd)[0], pd.DataFrame(ssd)[1])"
   ]
  },
  {
   "cell_type": "markdown",
   "metadata": {},
   "source": [
    "#### KMeans with predefined k value:\n",
    "\n",
    "As observed from `silhouette score plot` and `Elbow Curve`, optimal number of clusters is 3.\n",
    "\n",
    "In `silhouette score plot`, average max value is at 3 and in `Elbow Curve`, we have a elbow at 3. Hence running KMeans with n = 3"
   ]
  },
  {
   "cell_type": "code",
   "execution_count": 47,
   "metadata": {},
   "outputs": [
    {
     "data": {
      "text/plain": [
       "KMeans(algorithm='auto', copy_x=True, init='k-means++', max_iter=300,\n",
       "       n_clusters=3, n_init=10, n_jobs=None, precompute_distances='auto',\n",
       "       random_state=42, tol=0.0001, verbose=0)"
      ]
     },
     "execution_count": 47,
     "metadata": {},
     "output_type": "execute_result"
    }
   ],
   "source": [
    "model_kmean = KMeans(n_clusters = 3, random_state = 42)\n",
    "model_kmean.fit(PCA_Final2_df)"
   ]
  },
  {
   "cell_type": "code",
   "execution_count": 48,
   "metadata": {},
   "outputs": [
    {
     "data": {
      "text/html": [
       "<div>\n",
       "<style scoped>\n",
       "    .dataframe tbody tr th:only-of-type {\n",
       "        vertical-align: middle;\n",
       "    }\n",
       "\n",
       "    .dataframe tbody tr th {\n",
       "        vertical-align: top;\n",
       "    }\n",
       "\n",
       "    .dataframe thead th {\n",
       "        text-align: right;\n",
       "    }\n",
       "</style>\n",
       "<table border=\"1\" class=\"dataframe\">\n",
       "  <thead>\n",
       "    <tr style=\"text-align: right;\">\n",
       "      <th></th>\n",
       "      <th>PC1</th>\n",
       "      <th>PC2</th>\n",
       "      <th>PC3</th>\n",
       "      <th>PC4</th>\n",
       "      <th>PC5</th>\n",
       "      <th>country</th>\n",
       "      <th>ClusterID</th>\n",
       "    </tr>\n",
       "  </thead>\n",
       "  <tbody>\n",
       "    <tr>\n",
       "      <th>0</th>\n",
       "      <td>-2.961361</td>\n",
       "      <td>-0.528947</td>\n",
       "      <td>-0.481771</td>\n",
       "      <td>0.696992</td>\n",
       "      <td>-0.385602</td>\n",
       "      <td>Afghanistan</td>\n",
       "      <td>0</td>\n",
       "    </tr>\n",
       "    <tr>\n",
       "      <th>1</th>\n",
       "      <td>1.042700</td>\n",
       "      <td>0.177282</td>\n",
       "      <td>-1.112582</td>\n",
       "      <td>-0.550550</td>\n",
       "      <td>0.396007</td>\n",
       "      <td>Albania</td>\n",
       "      <td>2</td>\n",
       "    </tr>\n",
       "    <tr>\n",
       "      <th>2</th>\n",
       "      <td>0.607629</td>\n",
       "      <td>1.430212</td>\n",
       "      <td>0.309403</td>\n",
       "      <td>-0.606021</td>\n",
       "      <td>0.431738</td>\n",
       "      <td>Algeria</td>\n",
       "      <td>2</td>\n",
       "    </tr>\n",
       "    <tr>\n",
       "      <th>3</th>\n",
       "      <td>-2.192945</td>\n",
       "      <td>0.081697</td>\n",
       "      <td>2.860620</td>\n",
       "      <td>-0.038219</td>\n",
       "      <td>0.014009</td>\n",
       "      <td>Angola</td>\n",
       "      <td>0</td>\n",
       "    </tr>\n",
       "    <tr>\n",
       "      <th>4</th>\n",
       "      <td>2.588008</td>\n",
       "      <td>-0.099897</td>\n",
       "      <td>0.158819</td>\n",
       "      <td>-0.023343</td>\n",
       "      <td>-0.565751</td>\n",
       "      <td>Antigua and Barbuda</td>\n",
       "      <td>1</td>\n",
       "    </tr>\n",
       "  </tbody>\n",
       "</table>\n",
       "</div>"
      ],
      "text/plain": [
       "        PC1       PC2       PC3       PC4       PC5              country  \\\n",
       "0 -2.961361 -0.528947 -0.481771  0.696992 -0.385602          Afghanistan   \n",
       "1  1.042700  0.177282 -1.112582 -0.550550  0.396007              Albania   \n",
       "2  0.607629  1.430212  0.309403 -0.606021  0.431738              Algeria   \n",
       "3 -2.192945  0.081697  2.860620 -0.038219  0.014009               Angola   \n",
       "4  2.588008 -0.099897  0.158819 -0.023343 -0.565751  Antigua and Barbuda   \n",
       "\n",
       "   ClusterID  \n",
       "0          0  \n",
       "1          2  \n",
       "2          2  \n",
       "3          0  \n",
       "4          1  "
      ]
     },
     "execution_count": 48,
     "metadata": {},
     "output_type": "execute_result"
    }
   ],
   "source": [
    "Country_clustered_df = pd.concat([PCA_Final_df.reset_index().drop('index', axis = 1), pd.Series(model_kmean.labels_).reset_index().drop('index', axis  =1)], axis = 1)\n",
    "Country_clustered_df.columns = ['PC1', 'PC2','PC3', 'PC4', 'PC5','country', 'ClusterID']\n",
    "Country_clustered_df.head()"
   ]
  },
  {
   "cell_type": "code",
   "execution_count": 49,
   "metadata": {},
   "outputs": [
    {
     "data": {
      "text/plain": [
       "<matplotlib.axes._subplots.AxesSubplot at 0x1c476285a58>"
      ]
     },
     "execution_count": 49,
     "metadata": {},
     "output_type": "execute_result"
    },
    {
     "data": {
      "image/png": "[encoded data removed]",
      "text/plain": [
       "<Figure size 432x288 with 1 Axes>"
      ]
     },
     "metadata": {
      "needs_background": "light"
     },
     "output_type": "display_data"
    }
   ],
   "source": [
    "# Check the count of observation per cluster\n",
    "Country_clustered_df['ClusterID'].value_counts().plot(kind = 'bar')"
   ]
  },
  {
   "cell_type": "code",
   "execution_count": 50,
   "metadata": {
    "scrolled": true
   },
   "outputs": [
    {
     "data": {
      "text/plain": [
       "<matplotlib.axes._subplots.AxesSubplot at 0x1c476290320>"
      ]
     },
     "execution_count": 50,
     "metadata": {},
     "output_type": "execute_result"
    },
    {
     "data": {
      "image/png": "[encoded data removed]",
      "text/plain": [
       "<Figure size 432x288 with 1 Axes>"
      ]
     },
     "metadata": {
      "needs_background": "light"
     },
     "output_type": "display_data"
    }
   ],
   "source": [
    "# Plot the Cluster with respect to the clusters obtained\n",
    "sns.scatterplot(x = 'PC1', y = 'PC2', hue = 'ClusterID', data = Country_clustered_df, palette='Set2')"
   ]
  },
  {
   "cell_type": "markdown",
   "metadata": {},
   "source": [
    "#### Hierarchical Clustering "
   ]
  },
  {
   "cell_type": "code",
   "execution_count": 51,
   "metadata": {},
   "outputs": [
    {
     "data": {
      "text/plain": [
       "array([[ 1.08609087, -1.36430399,  0.6037782 , -0.04939097, -0.99618769],\n",
       "       [-0.72306198, -0.456601  ,  0.1455574 ,  0.14223964,  0.07347287],\n",
       "       [-0.46004655,  0.06784962, -0.91324407, -0.74858371,  0.45531084],\n",
       "       [ 1.79402024,  1.27307747, -1.50047849, -0.15297508, -0.44464396],\n",
       "       [-0.87792153,  0.42588802, -0.08577738,  0.6756978 ,  1.25241366]])"
      ]
     },
     "execution_count": 51,
     "metadata": {},
     "output_type": "execute_result"
    }
   ],
   "source": [
    "country_df_scaled[:5,:5]"
   ]
  },
  {
   "cell_type": "markdown",
   "metadata": {},
   "source": [
    "##### Single Linkage"
   ]
  },
  {
   "cell_type": "code",
   "execution_count": 52,
   "metadata": {},
   "outputs": [
    {
     "data": {
      "image/png": "[encoded data removed]",
      "text/plain": [
       "<Figure size 720x432 with 1 Axes>"
      ]
     },
     "metadata": {
      "needs_background": "light"
     },
     "output_type": "display_data"
    }
   ],
   "source": [
    "plt.figure(figsize=(10,6))\n",
    "singleLinkageClustering = linkage(country_df_scaled, method = 'single', metric = 'euclidean')\n",
    "dendrogram(singleLinkageClustering)\n",
    "plt.show()"
   ]
  },
  {
   "cell_type": "markdown",
   "metadata": {},
   "source": [
    "#### Complete Linkage"
   ]
  },
  {
   "cell_type": "code",
   "execution_count": 53,
   "metadata": {},
   "outputs": [
    {
     "data": {
      "image/png": "[encoded data removed]",
      "text/plain": [
       "<Figure size 720x432 with 1 Axes>"
      ]
     },
     "metadata": {
      "needs_background": "light"
     },
     "output_type": "display_data"
    }
   ],
   "source": [
    "plt.figure(figsize=(10,6))\n",
    "completeLinkageClustering = linkage(country_df_scaled, method = 'complete', metric = 'euclidean')\n",
    "dendrogram(completeLinkageClustering)\n",
    "plt.show()"
   ]
  },
  {
   "cell_type": "markdown",
   "metadata": {},
   "source": [
    "From the above dendrogram, it can be observed that 2,3,or 5 clusters.\n",
    "\n",
    "Taking the number of clusters as 3"
   ]
  },
  {
   "cell_type": "code",
   "execution_count": 54,
   "metadata": {
    "scrolled": true
   },
   "outputs": [
    {
     "data": {
      "text/plain": [
       "array([0, 1, 1, 1, 1, 1, 1, 1, 1, 1, 1, 1, 1, 0, 1, 1, 1, 1, 1, 1, 0, 1,\n",
       "       0, 1, 0, 0, 1, 1, 1, 0, 1, 1, 0, 1, 1, 1, 1, 1, 1, 1, 0, 1, 1, 1,\n",
       "       0, 1, 1, 1, 1, 0, 0, 1, 0, 1, 1, 1, 1, 0, 1, 1, 1, 0, 0, 1, 1, 1,\n",
       "       1, 0, 1, 1, 1, 0, 0, 1, 1, 0, 1, 1, 0, 0, 1, 1, 1, 0, 0, 1, 1, 0,\n",
       "       2, 0, 1, 1, 1, 1, 1, 1, 1, 0, 1, 0, 1, 1, 0, 1, 0, 1, 1, 1, 0, 1,\n",
       "       1, 0, 1, 0, 0, 1, 1, 1, 1, 0, 1, 1, 1, 1, 1, 1, 0, 0])"
      ]
     },
     "execution_count": 54,
     "metadata": {},
     "output_type": "execute_result"
    }
   ],
   "source": [
    "clusterLabels = cut_tree(completeLinkageClustering,n_clusters=3).reshape(-1,)\n",
    "clusterLabels"
   ]
  },
  {
   "cell_type": "code",
   "execution_count": 55,
   "metadata": {},
   "outputs": [
    {
     "data": {
      "text/html": [
       "<div>\n",
       "<style scoped>\n",
       "    .dataframe tbody tr th:only-of-type {\n",
       "        vertical-align: middle;\n",
       "    }\n",
       "\n",
       "    .dataframe tbody tr th {\n",
       "        vertical-align: top;\n",
       "    }\n",
       "\n",
       "    .dataframe thead th {\n",
       "        text-align: right;\n",
       "    }\n",
       "</style>\n",
       "<table border=\"1\" class=\"dataframe\">\n",
       "  <thead>\n",
       "    <tr style=\"text-align: right;\">\n",
       "      <th></th>\n",
       "      <th>country</th>\n",
       "      <th>child_mort</th>\n",
       "      <th>exports</th>\n",
       "      <th>health</th>\n",
       "      <th>imports</th>\n",
       "      <th>income</th>\n",
       "      <th>inflation</th>\n",
       "      <th>life_expec</th>\n",
       "      <th>total_fer</th>\n",
       "      <th>gdpp</th>\n",
       "      <th>ClusterId</th>\n",
       "    </tr>\n",
       "  </thead>\n",
       "  <tbody>\n",
       "    <tr>\n",
       "      <th>0</th>\n",
       "      <td>Afghanistan</td>\n",
       "      <td>90.2</td>\n",
       "      <td>10.0</td>\n",
       "      <td>7.58</td>\n",
       "      <td>44.9</td>\n",
       "      <td>1610</td>\n",
       "      <td>9.44</td>\n",
       "      <td>56.2</td>\n",
       "      <td>5.82</td>\n",
       "      <td>553</td>\n",
       "      <td>0</td>\n",
       "    </tr>\n",
       "    <tr>\n",
       "      <th>1</th>\n",
       "      <td>Albania</td>\n",
       "      <td>16.6</td>\n",
       "      <td>28.0</td>\n",
       "      <td>6.55</td>\n",
       "      <td>48.6</td>\n",
       "      <td>9930</td>\n",
       "      <td>4.49</td>\n",
       "      <td>76.3</td>\n",
       "      <td>1.65</td>\n",
       "      <td>4090</td>\n",
       "      <td>1</td>\n",
       "    </tr>\n",
       "    <tr>\n",
       "      <th>2</th>\n",
       "      <td>Algeria</td>\n",
       "      <td>27.3</td>\n",
       "      <td>38.4</td>\n",
       "      <td>4.17</td>\n",
       "      <td>31.4</td>\n",
       "      <td>12900</td>\n",
       "      <td>16.10</td>\n",
       "      <td>76.5</td>\n",
       "      <td>2.89</td>\n",
       "      <td>4460</td>\n",
       "      <td>1</td>\n",
       "    </tr>\n",
       "    <tr>\n",
       "      <th>3</th>\n",
       "      <td>Angola</td>\n",
       "      <td>119.0</td>\n",
       "      <td>62.3</td>\n",
       "      <td>2.85</td>\n",
       "      <td>42.9</td>\n",
       "      <td>5900</td>\n",
       "      <td>22.40</td>\n",
       "      <td>60.1</td>\n",
       "      <td>6.16</td>\n",
       "      <td>3530</td>\n",
       "      <td>1</td>\n",
       "    </tr>\n",
       "    <tr>\n",
       "      <th>4</th>\n",
       "      <td>Antigua and Barbuda</td>\n",
       "      <td>10.3</td>\n",
       "      <td>45.5</td>\n",
       "      <td>6.03</td>\n",
       "      <td>58.9</td>\n",
       "      <td>19100</td>\n",
       "      <td>1.44</td>\n",
       "      <td>76.8</td>\n",
       "      <td>2.13</td>\n",
       "      <td>12200</td>\n",
       "      <td>1</td>\n",
       "    </tr>\n",
       "  </tbody>\n",
       "</table>\n",
       "</div>"
      ],
      "text/plain": [
       "               country  child_mort  exports  health  imports  income  \\\n",
       "0          Afghanistan        90.2     10.0    7.58     44.9    1610   \n",
       "1              Albania        16.6     28.0    6.55     48.6    9930   \n",
       "2              Algeria        27.3     38.4    4.17     31.4   12900   \n",
       "3               Angola       119.0     62.3    2.85     42.9    5900   \n",
       "4  Antigua and Barbuda        10.3     45.5    6.03     58.9   19100   \n",
       "\n",
       "   inflation  life_expec  total_fer   gdpp  ClusterId  \n",
       "0       9.44        56.2       5.82    553          0  \n",
       "1       4.49        76.3       1.65   4090          1  \n",
       "2      16.10        76.5       2.89   4460          1  \n",
       "3      22.40        60.1       6.16   3530          1  \n",
       "4       1.44        76.8       2.13  12200          1  "
      ]
     },
     "execution_count": 55,
     "metadata": {},
     "output_type": "execute_result"
    }
   ],
   "source": [
    "## Assigning cluster labels\n",
    "\n",
    "country_df_forHierarchical['ClusterId'] = clusterLabels\n",
    "country_df_forHierarchical.head()"
   ]
  },
  {
   "cell_type": "code",
   "execution_count": 56,
   "metadata": {},
   "outputs": [
    {
     "data": {
      "text/plain": [
       "<matplotlib.axes._subplots.AxesSubplot at 0x1c47607ba58>"
      ]
     },
     "execution_count": 56,
     "metadata": {},
     "output_type": "execute_result"
    },
    {
     "data": {
      "image/png": "[encoded data removed]",
      "text/plain": [
       "<Figure size 432x288 with 1 Axes>"
      ]
     },
     "metadata": {
      "needs_background": "light"
     },
     "output_type": "display_data"
    }
   ],
   "source": [
    "# Observe the scatter plot for \"GDPP\" and \"Income\" columns\n",
    "sns.scatterplot(x = 'income', y = 'gdpp', hue = 'ClusterId', data = country_df_forHierarchical, palette='Set1')"
   ]
  },
  {
   "cell_type": "markdown",
   "metadata": {},
   "source": [
    "From this visualization, we can say that the clusters formed using KMeans are providing more informative than Hierarchical Method.\n",
    "\n",
    "Hence, opting for clusters formed using KMeans Algorithm."
   ]
  },
  {
   "cell_type": "markdown",
   "metadata": {},
   "source": [
    "### Step 5 : Cluster Analysis"
   ]
  },
  {
   "cell_type": "code",
   "execution_count": 57,
   "metadata": {},
   "outputs": [],
   "source": [
    "## Merging the cluster id with original df\n",
    "\n",
    "clustered_Original_Country_Df = pd.merge(country_df, Country_clustered_df[['ClusterID','country']], on = 'country')"
   ]
  },
  {
   "cell_type": "code",
   "execution_count": 58,
   "metadata": {},
   "outputs": [
    {
     "data": {
      "text/html": [
       "<div>\n",
       "<style scoped>\n",
       "    .dataframe tbody tr th:only-of-type {\n",
       "        vertical-align: middle;\n",
       "    }\n",
       "\n",
       "    .dataframe tbody tr th {\n",
       "        vertical-align: top;\n",
       "    }\n",
       "\n",
       "    .dataframe thead th {\n",
       "        text-align: right;\n",
       "    }\n",
       "</style>\n",
       "<table border=\"1\" class=\"dataframe\">\n",
       "  <thead>\n",
       "    <tr style=\"text-align: right;\">\n",
       "      <th></th>\n",
       "      <th>country</th>\n",
       "      <th>child_mort</th>\n",
       "      <th>exports</th>\n",
       "      <th>health</th>\n",
       "      <th>imports</th>\n",
       "      <th>income</th>\n",
       "      <th>inflation</th>\n",
       "      <th>life_expec</th>\n",
       "      <th>total_fer</th>\n",
       "      <th>gdpp</th>\n",
       "      <th>ClusterID</th>\n",
       "    </tr>\n",
       "  </thead>\n",
       "  <tbody>\n",
       "    <tr>\n",
       "      <th>0</th>\n",
       "      <td>Afghanistan</td>\n",
       "      <td>90.2</td>\n",
       "      <td>10.0</td>\n",
       "      <td>7.58</td>\n",
       "      <td>44.9</td>\n",
       "      <td>1610</td>\n",
       "      <td>9.44</td>\n",
       "      <td>56.2</td>\n",
       "      <td>5.82</td>\n",
       "      <td>553</td>\n",
       "      <td>0</td>\n",
       "    </tr>\n",
       "    <tr>\n",
       "      <th>1</th>\n",
       "      <td>Albania</td>\n",
       "      <td>16.6</td>\n",
       "      <td>28.0</td>\n",
       "      <td>6.55</td>\n",
       "      <td>48.6</td>\n",
       "      <td>9930</td>\n",
       "      <td>4.49</td>\n",
       "      <td>76.3</td>\n",
       "      <td>1.65</td>\n",
       "      <td>4090</td>\n",
       "      <td>2</td>\n",
       "    </tr>\n",
       "    <tr>\n",
       "      <th>2</th>\n",
       "      <td>Algeria</td>\n",
       "      <td>27.3</td>\n",
       "      <td>38.4</td>\n",
       "      <td>4.17</td>\n",
       "      <td>31.4</td>\n",
       "      <td>12900</td>\n",
       "      <td>16.10</td>\n",
       "      <td>76.5</td>\n",
       "      <td>2.89</td>\n",
       "      <td>4460</td>\n",
       "      <td>2</td>\n",
       "    </tr>\n",
       "    <tr>\n",
       "      <th>3</th>\n",
       "      <td>Angola</td>\n",
       "      <td>119.0</td>\n",
       "      <td>62.3</td>\n",
       "      <td>2.85</td>\n",
       "      <td>42.9</td>\n",
       "      <td>5900</td>\n",
       "      <td>22.40</td>\n",
       "      <td>60.1</td>\n",
       "      <td>6.16</td>\n",
       "      <td>3530</td>\n",
       "      <td>0</td>\n",
       "    </tr>\n",
       "    <tr>\n",
       "      <th>4</th>\n",
       "      <td>Antigua and Barbuda</td>\n",
       "      <td>10.3</td>\n",
       "      <td>45.5</td>\n",
       "      <td>6.03</td>\n",
       "      <td>58.9</td>\n",
       "      <td>19100</td>\n",
       "      <td>1.44</td>\n",
       "      <td>76.8</td>\n",
       "      <td>2.13</td>\n",
       "      <td>12200</td>\n",
       "      <td>1</td>\n",
       "    </tr>\n",
       "    <tr>\n",
       "      <th>5</th>\n",
       "      <td>Argentina</td>\n",
       "      <td>14.5</td>\n",
       "      <td>18.9</td>\n",
       "      <td>8.10</td>\n",
       "      <td>16.0</td>\n",
       "      <td>18700</td>\n",
       "      <td>20.90</td>\n",
       "      <td>75.8</td>\n",
       "      <td>2.37</td>\n",
       "      <td>10300</td>\n",
       "      <td>2</td>\n",
       "    </tr>\n",
       "    <tr>\n",
       "      <th>6</th>\n",
       "      <td>Armenia</td>\n",
       "      <td>18.1</td>\n",
       "      <td>20.8</td>\n",
       "      <td>4.40</td>\n",
       "      <td>45.3</td>\n",
       "      <td>6700</td>\n",
       "      <td>7.77</td>\n",
       "      <td>73.3</td>\n",
       "      <td>1.69</td>\n",
       "      <td>3220</td>\n",
       "      <td>2</td>\n",
       "    </tr>\n",
       "    <tr>\n",
       "      <th>7</th>\n",
       "      <td>Azerbaijan</td>\n",
       "      <td>39.2</td>\n",
       "      <td>54.3</td>\n",
       "      <td>5.88</td>\n",
       "      <td>20.7</td>\n",
       "      <td>16000</td>\n",
       "      <td>13.80</td>\n",
       "      <td>69.1</td>\n",
       "      <td>1.92</td>\n",
       "      <td>5840</td>\n",
       "      <td>2</td>\n",
       "    </tr>\n",
       "    <tr>\n",
       "      <th>8</th>\n",
       "      <td>Bahrain</td>\n",
       "      <td>8.6</td>\n",
       "      <td>69.5</td>\n",
       "      <td>4.97</td>\n",
       "      <td>50.9</td>\n",
       "      <td>41100</td>\n",
       "      <td>7.44</td>\n",
       "      <td>76.0</td>\n",
       "      <td>2.16</td>\n",
       "      <td>20700</td>\n",
       "      <td>1</td>\n",
       "    </tr>\n",
       "    <tr>\n",
       "      <th>9</th>\n",
       "      <td>Bangladesh</td>\n",
       "      <td>49.4</td>\n",
       "      <td>16.0</td>\n",
       "      <td>3.52</td>\n",
       "      <td>21.8</td>\n",
       "      <td>2440</td>\n",
       "      <td>7.14</td>\n",
       "      <td>70.4</td>\n",
       "      <td>2.33</td>\n",
       "      <td>758</td>\n",
       "      <td>2</td>\n",
       "    </tr>\n",
       "  </tbody>\n",
       "</table>\n",
       "</div>"
      ],
      "text/plain": [
       "               country  child_mort  exports  health  imports  income  \\\n",
       "0          Afghanistan        90.2     10.0    7.58     44.9    1610   \n",
       "1              Albania        16.6     28.0    6.55     48.6    9930   \n",
       "2              Algeria        27.3     38.4    4.17     31.4   12900   \n",
       "3               Angola       119.0     62.3    2.85     42.9    5900   \n",
       "4  Antigua and Barbuda        10.3     45.5    6.03     58.9   19100   \n",
       "5            Argentina        14.5     18.9    8.10     16.0   18700   \n",
       "6              Armenia        18.1     20.8    4.40     45.3    6700   \n",
       "7           Azerbaijan        39.2     54.3    5.88     20.7   16000   \n",
       "8              Bahrain         8.6     69.5    4.97     50.9   41100   \n",
       "9           Bangladesh        49.4     16.0    3.52     21.8    2440   \n",
       "\n",
       "   inflation  life_expec  total_fer   gdpp  ClusterID  \n",
       "0       9.44        56.2       5.82    553          0  \n",
       "1       4.49        76.3       1.65   4090          2  \n",
       "2      16.10        76.5       2.89   4460          2  \n",
       "3      22.40        60.1       6.16   3530          0  \n",
       "4       1.44        76.8       2.13  12200          1  \n",
       "5      20.90        75.8       2.37  10300          2  \n",
       "6       7.77        73.3       1.69   3220          2  \n",
       "7      13.80        69.1       1.92   5840          2  \n",
       "8       7.44        76.0       2.16  20700          1  \n",
       "9       7.14        70.4       2.33    758          2  "
      ]
     },
     "execution_count": 58,
     "metadata": {},
     "output_type": "execute_result"
    }
   ],
   "source": [
    "clustered_Original_Country_Df.head(10)"
   ]
  },
  {
   "cell_type": "code",
   "execution_count": 59,
   "metadata": {},
   "outputs": [
    {
     "data": {
      "text/plain": [
       "(128, 11)"
      ]
     },
     "execution_count": 59,
     "metadata": {},
     "output_type": "execute_result"
    }
   ],
   "source": [
    "clustered_Original_Country_Df.shape"
   ]
  },
  {
   "cell_type": "code",
   "execution_count": 60,
   "metadata": {},
   "outputs": [
    {
     "data": {
      "text/html": [
       "<div>\n",
       "<style scoped>\n",
       "    .dataframe tbody tr th:only-of-type {\n",
       "        vertical-align: middle;\n",
       "    }\n",
       "\n",
       "    .dataframe tbody tr th {\n",
       "        vertical-align: top;\n",
       "    }\n",
       "\n",
       "    .dataframe thead th {\n",
       "        text-align: right;\n",
       "    }\n",
       "</style>\n",
       "<table border=\"1\" class=\"dataframe\">\n",
       "  <thead>\n",
       "    <tr style=\"text-align: right;\">\n",
       "      <th></th>\n",
       "      <th>gdpp</th>\n",
       "      <th>child_mort</th>\n",
       "      <th>income</th>\n",
       "      <th>ClusterID</th>\n",
       "      <th>country</th>\n",
       "    </tr>\n",
       "  </thead>\n",
       "  <tbody>\n",
       "    <tr>\n",
       "      <th>0</th>\n",
       "      <td>553</td>\n",
       "      <td>90.2</td>\n",
       "      <td>1610</td>\n",
       "      <td>0</td>\n",
       "      <td>Afghanistan</td>\n",
       "    </tr>\n",
       "    <tr>\n",
       "      <th>1</th>\n",
       "      <td>4090</td>\n",
       "      <td>16.6</td>\n",
       "      <td>9930</td>\n",
       "      <td>2</td>\n",
       "      <td>Albania</td>\n",
       "    </tr>\n",
       "    <tr>\n",
       "      <th>2</th>\n",
       "      <td>4460</td>\n",
       "      <td>27.3</td>\n",
       "      <td>12900</td>\n",
       "      <td>2</td>\n",
       "      <td>Algeria</td>\n",
       "    </tr>\n",
       "    <tr>\n",
       "      <th>3</th>\n",
       "      <td>3530</td>\n",
       "      <td>119.0</td>\n",
       "      <td>5900</td>\n",
       "      <td>0</td>\n",
       "      <td>Angola</td>\n",
       "    </tr>\n",
       "    <tr>\n",
       "      <th>4</th>\n",
       "      <td>12200</td>\n",
       "      <td>10.3</td>\n",
       "      <td>19100</td>\n",
       "      <td>1</td>\n",
       "      <td>Antigua and Barbuda</td>\n",
       "    </tr>\n",
       "  </tbody>\n",
       "</table>\n",
       "</div>"
      ],
      "text/plain": [
       "    gdpp  child_mort  income  ClusterID              country\n",
       "0    553        90.2    1610          0          Afghanistan\n",
       "1   4090        16.6    9930          2              Albania\n",
       "2   4460        27.3   12900          2              Algeria\n",
       "3   3530       119.0    5900          0               Angola\n",
       "4  12200        10.3   19100          1  Antigua and Barbuda"
      ]
     },
     "execution_count": 60,
     "metadata": {},
     "output_type": "execute_result"
    }
   ],
   "source": [
    "## Taking the desired variables only\n",
    "\n",
    "analysable_DF = clustered_Original_Country_Df[['gdpp','child_mort','income','ClusterID', 'country']]\n",
    "analysable_DF.head()"
   ]
  },
  {
   "cell_type": "code",
   "execution_count": 61,
   "metadata": {},
   "outputs": [
    {
     "data": {
      "text/html": [
       "<div>\n",
       "<style scoped>\n",
       "    .dataframe tbody tr th:only-of-type {\n",
       "        vertical-align: middle;\n",
       "    }\n",
       "\n",
       "    .dataframe tbody tr th {\n",
       "        vertical-align: top;\n",
       "    }\n",
       "\n",
       "    .dataframe thead th {\n",
       "        text-align: right;\n",
       "    }\n",
       "</style>\n",
       "<table border=\"1\" class=\"dataframe\">\n",
       "  <thead>\n",
       "    <tr style=\"text-align: right;\">\n",
       "      <th></th>\n",
       "      <th>gdpp</th>\n",
       "      <th>child_mort</th>\n",
       "      <th>income</th>\n",
       "    </tr>\n",
       "    <tr>\n",
       "      <th>ClusterID</th>\n",
       "      <th></th>\n",
       "      <th></th>\n",
       "      <th></th>\n",
       "    </tr>\n",
       "  </thead>\n",
       "  <tbody>\n",
       "    <tr>\n",
       "      <th>0</th>\n",
       "      <td>1058.410256</td>\n",
       "      <td>96.433333</td>\n",
       "      <td>2343.076923</td>\n",
       "    </tr>\n",
       "    <tr>\n",
       "      <th>1</th>\n",
       "      <td>11928.695652</td>\n",
       "      <td>14.234783</td>\n",
       "      <td>20982.608696</td>\n",
       "    </tr>\n",
       "    <tr>\n",
       "      <th>2</th>\n",
       "      <td>4684.606061</td>\n",
       "      <td>27.298485</td>\n",
       "      <td>9453.181818</td>\n",
       "    </tr>\n",
       "  </tbody>\n",
       "</table>\n",
       "</div>"
      ],
      "text/plain": [
       "                   gdpp  child_mort        income\n",
       "ClusterID                                        \n",
       "0           1058.410256   96.433333   2343.076923\n",
       "1          11928.695652   14.234783  20982.608696\n",
       "2           4684.606061   27.298485   9453.181818"
      ]
     },
     "execution_count": 61,
     "metadata": {},
     "output_type": "execute_result"
    }
   ],
   "source": [
    "analysable_DF.groupby('ClusterID').mean()"
   ]
  },
  {
   "cell_type": "code",
   "execution_count": 62,
   "metadata": {},
   "outputs": [
    {
     "data": {
      "text/plain": [
       "<matplotlib.axes._subplots.AxesSubplot at 0x1c4772154e0>"
      ]
     },
     "execution_count": 62,
     "metadata": {},
     "output_type": "execute_result"
    },
    {
     "data": {
      "image/png": "[encoded data removed]",
      "text/plain": [
       "<Figure size 432x288 with 1 Axes>"
      ]
     },
     "metadata": {
      "needs_background": "light"
     },
     "output_type": "display_data"
    }
   ],
   "source": [
    "analysable_DF.groupby('ClusterID').mean().plot(kind = 'bar')"
   ]
  },
  {
   "cell_type": "code",
   "execution_count": 63,
   "metadata": {},
   "outputs": [
    {
     "data": {
      "text/plain": [
       "<matplotlib.axes._subplots.AxesSubplot at 0x1c476b6dcf8>"
      ]
     },
     "execution_count": 63,
     "metadata": {},
     "output_type": "execute_result"
    },
    {
     "data": {
      "image/png": "[encoded data removed]",
      "text/plain": [
       "<Figure size 432x288 with 1 Axes>"
      ]
     },
     "metadata": {
      "needs_background": "light"
     },
     "output_type": "display_data"
    }
   ],
   "source": [
    "sns.scatterplot(x = 'gdpp', y = 'income', hue = 'ClusterID', data = analysable_DF, palette='Set2')"
   ]
  },
  {
   "cell_type": "markdown",
   "metadata": {},
   "source": [
    "From the above graph, we can clearly see that\n",
    "- Cluster 0 is for Under Developed Countries.\n",
    "- Cluster 1 is made up of Developed Countries as their GDPP and Income is high, while child mortality rate is very low.\n",
    "- Cluster 2 is for  Developing Countries."
   ]
  },
  {
   "cell_type": "markdown",
   "metadata": {},
   "source": [
    "As observed in this observation, we can see that GDPP and Income is very high for Cluster 0 which is made up of Developed Countries."
   ]
  },
  {
   "cell_type": "code",
   "execution_count": 64,
   "metadata": {
    "scrolled": true
   },
   "outputs": [
    {
     "data": {
      "image/png": "[encoded data removed]",
      "text/plain": [
       "<Figure size 1080x720 with 3 Axes>"
      ]
     },
     "metadata": {
      "needs_background": "light"
     },
     "output_type": "display_data"
    }
   ],
   "source": [
    "# Check outliers\n",
    "plt.figure(figsize = (15,10))\n",
    "var = ['gdpp', 'child_mort','income']\n",
    "for i in enumerate(var):\n",
    "    plt.subplot(2,3,i[0]+1)\n",
    "    sns.boxplot(x= 'ClusterID', y = i[1], data = analysable_DF)"
   ]
  },
  {
   "cell_type": "markdown",
   "metadata": {},
   "source": [
    "### Cluster 0 - Under Developing Countries Analysis"
   ]
  },
  {
   "cell_type": "code",
   "execution_count": 65,
   "metadata": {},
   "outputs": [
    {
     "data": {
      "text/html": [
       "<div>\n",
       "<style scoped>\n",
       "    .dataframe tbody tr th:only-of-type {\n",
       "        vertical-align: middle;\n",
       "    }\n",
       "\n",
       "    .dataframe tbody tr th {\n",
       "        vertical-align: top;\n",
       "    }\n",
       "\n",
       "    .dataframe thead th {\n",
       "        text-align: right;\n",
       "    }\n",
       "</style>\n",
       "<table border=\"1\" class=\"dataframe\">\n",
       "  <thead>\n",
       "    <tr style=\"text-align: right;\">\n",
       "      <th></th>\n",
       "      <th>gdpp</th>\n",
       "      <th>child_mort</th>\n",
       "      <th>income</th>\n",
       "      <th>ClusterID</th>\n",
       "      <th>country</th>\n",
       "    </tr>\n",
       "  </thead>\n",
       "  <tbody>\n",
       "    <tr>\n",
       "      <th>0</th>\n",
       "      <td>553</td>\n",
       "      <td>90.2</td>\n",
       "      <td>1610</td>\n",
       "      <td>0</td>\n",
       "      <td>Afghanistan</td>\n",
       "    </tr>\n",
       "    <tr>\n",
       "      <th>3</th>\n",
       "      <td>3530</td>\n",
       "      <td>119.0</td>\n",
       "      <td>5900</td>\n",
       "      <td>0</td>\n",
       "      <td>Angola</td>\n",
       "    </tr>\n",
       "    <tr>\n",
       "      <th>13</th>\n",
       "      <td>758</td>\n",
       "      <td>111.0</td>\n",
       "      <td>1820</td>\n",
       "      <td>0</td>\n",
       "      <td>Benin</td>\n",
       "    </tr>\n",
       "    <tr>\n",
       "      <th>20</th>\n",
       "      <td>575</td>\n",
       "      <td>116.0</td>\n",
       "      <td>1430</td>\n",
       "      <td>0</td>\n",
       "      <td>Burkina Faso</td>\n",
       "    </tr>\n",
       "    <tr>\n",
       "      <th>22</th>\n",
       "      <td>1310</td>\n",
       "      <td>108.0</td>\n",
       "      <td>2660</td>\n",
       "      <td>0</td>\n",
       "      <td>Cameroon</td>\n",
       "    </tr>\n",
       "  </tbody>\n",
       "</table>\n",
       "</div>"
      ],
      "text/plain": [
       "    gdpp  child_mort  income  ClusterID       country\n",
       "0    553        90.2    1610          0   Afghanistan\n",
       "3   3530       119.0    5900          0        Angola\n",
       "13   758       111.0    1820          0         Benin\n",
       "20   575       116.0    1430          0  Burkina Faso\n",
       "22  1310       108.0    2660          0      Cameroon"
      ]
     },
     "execution_count": 65,
     "metadata": {},
     "output_type": "execute_result"
    }
   ],
   "source": [
    "## Filtering out cluster 0 \n",
    "analysable_DF_cluster0 = analysable_DF[analysable_DF['ClusterID']==0]\n",
    "analysable_DF_cluster0.head()"
   ]
  },
  {
   "cell_type": "markdown",
   "metadata": {},
   "source": [
    "To find the countries those are in dire need of help\n",
    "- Will have low GDPP\n",
    "- Will have high child mortality rate\n",
    "- Will have low income\n",
    "\n",
    "Hence, we can filter the dataset according to the above conditions."
   ]
  },
  {
   "cell_type": "code",
   "execution_count": 66,
   "metadata": {},
   "outputs": [
    {
     "data": {
      "text/html": [
       "<div>\n",
       "<style scoped>\n",
       "    .dataframe tbody tr th:only-of-type {\n",
       "        vertical-align: middle;\n",
       "    }\n",
       "\n",
       "    .dataframe tbody tr th {\n",
       "        vertical-align: top;\n",
       "    }\n",
       "\n",
       "    .dataframe thead th {\n",
       "        text-align: right;\n",
       "    }\n",
       "</style>\n",
       "<table border=\"1\" class=\"dataframe\">\n",
       "  <thead>\n",
       "    <tr style=\"text-align: right;\">\n",
       "      <th></th>\n",
       "      <th>gdpp</th>\n",
       "      <th>child_mort</th>\n",
       "      <th>income</th>\n",
       "      <th>ClusterID</th>\n",
       "      <th>country</th>\n",
       "    </tr>\n",
       "  </thead>\n",
       "  <tbody>\n",
       "    <tr>\n",
       "      <th>87</th>\n",
       "      <td>348</td>\n",
       "      <td>123.0</td>\n",
       "      <td>814</td>\n",
       "      <td>0</td>\n",
       "      <td>Niger</td>\n",
       "    </tr>\n",
       "    <tr>\n",
       "      <th>102</th>\n",
       "      <td>399</td>\n",
       "      <td>160.0</td>\n",
       "      <td>1220</td>\n",
       "      <td>0</td>\n",
       "      <td>Sierra Leone</td>\n",
       "    </tr>\n",
       "    <tr>\n",
       "      <th>71</th>\n",
       "      <td>413</td>\n",
       "      <td>62.2</td>\n",
       "      <td>1390</td>\n",
       "      <td>0</td>\n",
       "      <td>Madagascar</td>\n",
       "    </tr>\n",
       "    <tr>\n",
       "      <th>83</th>\n",
       "      <td>419</td>\n",
       "      <td>101.0</td>\n",
       "      <td>918</td>\n",
       "      <td>0</td>\n",
       "      <td>Mozambique</td>\n",
       "    </tr>\n",
       "    <tr>\n",
       "      <th>24</th>\n",
       "      <td>446</td>\n",
       "      <td>149.0</td>\n",
       "      <td>888</td>\n",
       "      <td>0</td>\n",
       "      <td>Central African Republic</td>\n",
       "    </tr>\n",
       "    <tr>\n",
       "      <th>72</th>\n",
       "      <td>459</td>\n",
       "      <td>90.5</td>\n",
       "      <td>1030</td>\n",
       "      <td>0</td>\n",
       "      <td>Malawi</td>\n",
       "    </tr>\n",
       "    <tr>\n",
       "      <th>40</th>\n",
       "      <td>482</td>\n",
       "      <td>55.2</td>\n",
       "      <td>1420</td>\n",
       "      <td>0</td>\n",
       "      <td>Eritrea</td>\n",
       "    </tr>\n",
       "  </tbody>\n",
       "</table>\n",
       "</div>"
      ],
      "text/plain": [
       "     gdpp  child_mort  income  ClusterID                   country\n",
       "87    348       123.0     814          0                     Niger\n",
       "102   399       160.0    1220          0              Sierra Leone\n",
       "71    413        62.2    1390          0                Madagascar\n",
       "83    419       101.0     918          0                Mozambique\n",
       "24    446       149.0     888          0  Central African Republic\n",
       "72    459        90.5    1030          0                    Malawi\n",
       "40    482        55.2    1420          0                   Eritrea"
      ]
     },
     "execution_count": 66,
     "metadata": {},
     "output_type": "execute_result"
    }
   ],
   "source": [
    "top_countries =analysable_DF_cluster0.sort_values(['gdpp','income','child_mort'], ascending=[True, True, False]).head(7)\n",
    "top_countries"
   ]
  },
  {
   "cell_type": "code",
   "execution_count": 67,
   "metadata": {},
   "outputs": [
    {
     "data": {
      "text/plain": [
       "<matplotlib.axes._subplots.AxesSubplot at 0x1c476dfbef0>"
      ]
     },
     "execution_count": 67,
     "metadata": {},
     "output_type": "execute_result"
    },
    {
     "data": {
      "text/plain": [
       "<Figure size 720x432 with 0 Axes>"
      ]
     },
     "metadata": {},
     "output_type": "display_data"
    },
    {
     "data": {
      "image/png": "[encoded data removed]",
      "text/plain": [
       "<Figure size 432x288 with 1 Axes>"
      ]
     },
     "metadata": {
      "needs_background": "light"
     },
     "output_type": "display_data"
    }
   ],
   "source": [
    "plt.figure(figsize=(10,6))\n",
    "top_countries.plot(kind = 'bar', x = 'country')"
   ]
  },
  {
   "cell_type": "markdown",
   "metadata": {},
   "source": [
    "The top 5 Countries those needs to be provided aid are :\n",
    "- Niger\n",
    "- Sierra Leone\n",
    "- Madagascar\n",
    "- Mozambique\n",
    "- Central African Republic"
   ]
  }
 ],
 "metadata": {
  "kernelspec": {
   "display_name": "Python 3",
   "language": "python",
   "name": "python3"
  },
  "language_info": {
   "codemirror_mode": {
    "name": "ipython",
    "version": 3
   },
   "file_extension": ".py",
   "mimetype": "text/x-python",
   "name": "python",
   "nbconvert_exporter": "python",
   "pygments_lexer": "ipython3",
   "version": "3.7.3"
  }
 },
 "nbformat": 4,
 "nbformat_minor": 2
}
